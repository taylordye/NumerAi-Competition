{
 "cells": [
  {
   "cell_type": "markdown",
   "metadata": {},
   "source": [
    "## NumerAi Tournament 64"
   ]
  },
  {
   "cell_type": "code",
   "execution_count": 1,
   "metadata": {
    "collapsed": true
   },
   "outputs": [],
   "source": [
    "%matplotlib inline\n",
    "import pandas as pd\n",
    "import numpy as np\n",
    "import matplotlib.pyplot as plt\n",
    "import seaborn as sns"
   ]
  },
  {
   "cell_type": "code",
   "execution_count": 2,
   "metadata": {
    "collapsed": true
   },
   "outputs": [],
   "source": [
    "# Function that returns the Cross-Validation log_loss score\n",
    "def get_log_loss(grid_search_obj):\n",
    "    print(\"Best log_loss score: {:.5f}\".format(-1 * grid_search_obj.best_score_))"
   ]
  },
  {
   "cell_type": "code",
   "execution_count": 3,
   "metadata": {
    "collapsed": true
   },
   "outputs": [],
   "source": [
    "# Function that uses RandomForest to return most important features\n",
    "def rf_feature_selection(df, X, y):\n",
    "    # Create a random forest\n",
    "    from sklearn.ensemble import RandomForestClassifier\n",
    "\n",
    "    # Get the columns\n",
    "    cols = df.columns[3:-1]\n",
    "\n",
    "    # Make the forest\n",
    "    forest = RandomForestClassifier(n_estimators=100, n_jobs=2)\n",
    "\n",
    "    # Fit\n",
    "    forest.fit(X,y)\n",
    "\n",
    "    # Get the importances\n",
    "    importances = forest.feature_importances_\n",
    "\n",
    "    # Get the indices\n",
    "    indices = np.argsort(importances)[::-1]\n",
    "\n",
    "    # Show the importance of each feature\n",
    "    for f in range(X.shape[1]):\n",
    "        print(\"{} - {}\".format(cols[f], importances[indices[f]]))"
   ]
  },
  {
   "cell_type": "code",
   "execution_count": 4,
   "metadata": {
    "collapsed": true
   },
   "outputs": [],
   "source": [
    "# Function that takes the probabilities and ids and saves them to a CSV file\n",
    "def save_predictions(probabilities, tourney_df, tournament_nbr=60):\n",
    "    import pandas as pd\n",
    "    \n",
    "    # Get the probability of 1\n",
    "    prob_of_one = probabilities[:, 1]\n",
    "    \n",
    "    # Get the IDs\n",
    "    ids = tourney_df['id']\n",
    "    \n",
    "    # Join the data into one DataFrame\n",
    "    results = pd.DataFrame(data={'probability': prob_of_one})\n",
    "    results = pd.DataFrame(ids).join(results)\n",
    "    \n",
    "    # Save to CSV\n",
    "    results.to_csv(\"probabilities_{}.csv\".format(tournament_nbr), index=False)"
   ]
  },
  {
   "cell_type": "code",
   "execution_count": 5,
   "metadata": {
    "collapsed": false
   },
   "outputs": [
    {
     "data": {
      "text/html": [
       "<div>\n",
       "<table border=\"1\" class=\"dataframe\">\n",
       "  <thead>\n",
       "    <tr style=\"text-align: right;\">\n",
       "      <th></th>\n",
       "      <th>id</th>\n",
       "      <th>era</th>\n",
       "      <th>data_type</th>\n",
       "      <th>feature1</th>\n",
       "      <th>feature2</th>\n",
       "      <th>feature3</th>\n",
       "      <th>feature4</th>\n",
       "      <th>feature5</th>\n",
       "      <th>feature6</th>\n",
       "      <th>feature7</th>\n",
       "      <th>...</th>\n",
       "      <th>feature13</th>\n",
       "      <th>feature14</th>\n",
       "      <th>feature15</th>\n",
       "      <th>feature16</th>\n",
       "      <th>feature17</th>\n",
       "      <th>feature18</th>\n",
       "      <th>feature19</th>\n",
       "      <th>feature20</th>\n",
       "      <th>feature21</th>\n",
       "      <th>target</th>\n",
       "    </tr>\n",
       "  </thead>\n",
       "  <tbody>\n",
       "    <tr>\n",
       "      <th>0</th>\n",
       "      <td>44885</td>\n",
       "      <td>era1</td>\n",
       "      <td>train</td>\n",
       "      <td>0.48082</td>\n",
       "      <td>0.50443</td>\n",
       "      <td>0.64472</td>\n",
       "      <td>0.42563</td>\n",
       "      <td>0.36493</td>\n",
       "      <td>0.43412</td>\n",
       "      <td>0.59584</td>\n",
       "      <td>...</td>\n",
       "      <td>0.38062</td>\n",
       "      <td>0.69552</td>\n",
       "      <td>0.60017</td>\n",
       "      <td>0.36811</td>\n",
       "      <td>0.61011</td>\n",
       "      <td>0.64667</td>\n",
       "      <td>0.57433</td>\n",
       "      <td>0.49981</td>\n",
       "      <td>0.45062</td>\n",
       "      <td>0</td>\n",
       "    </tr>\n",
       "    <tr>\n",
       "      <th>1</th>\n",
       "      <td>128624</td>\n",
       "      <td>era1</td>\n",
       "      <td>train</td>\n",
       "      <td>0.29881</td>\n",
       "      <td>0.48132</td>\n",
       "      <td>0.74775</td>\n",
       "      <td>0.35139</td>\n",
       "      <td>0.34590</td>\n",
       "      <td>0.59582</td>\n",
       "      <td>0.47218</td>\n",
       "      <td>...</td>\n",
       "      <td>0.25399</td>\n",
       "      <td>0.69524</td>\n",
       "      <td>0.54931</td>\n",
       "      <td>0.24025</td>\n",
       "      <td>0.73879</td>\n",
       "      <td>0.74283</td>\n",
       "      <td>0.46221</td>\n",
       "      <td>0.61501</td>\n",
       "      <td>0.44855</td>\n",
       "      <td>0</td>\n",
       "    </tr>\n",
       "    <tr>\n",
       "      <th>2</th>\n",
       "      <td>25226</td>\n",
       "      <td>era1</td>\n",
       "      <td>train</td>\n",
       "      <td>0.35476</td>\n",
       "      <td>0.55320</td>\n",
       "      <td>0.72901</td>\n",
       "      <td>0.41842</td>\n",
       "      <td>0.30004</td>\n",
       "      <td>0.50967</td>\n",
       "      <td>0.58637</td>\n",
       "      <td>...</td>\n",
       "      <td>0.28310</td>\n",
       "      <td>0.76956</td>\n",
       "      <td>0.64866</td>\n",
       "      <td>0.29443</td>\n",
       "      <td>0.70038</td>\n",
       "      <td>0.72421</td>\n",
       "      <td>0.53198</td>\n",
       "      <td>0.51801</td>\n",
       "      <td>0.38804</td>\n",
       "      <td>1</td>\n",
       "    </tr>\n",
       "    <tr>\n",
       "      <th>3</th>\n",
       "      <td>138157</td>\n",
       "      <td>era1</td>\n",
       "      <td>train</td>\n",
       "      <td>0.54332</td>\n",
       "      <td>0.56586</td>\n",
       "      <td>0.46714</td>\n",
       "      <td>0.54309</td>\n",
       "      <td>0.59467</td>\n",
       "      <td>0.63145</td>\n",
       "      <td>0.33568</td>\n",
       "      <td>...</td>\n",
       "      <td>0.53332</td>\n",
       "      <td>0.43072</td>\n",
       "      <td>0.36848</td>\n",
       "      <td>0.49746</td>\n",
       "      <td>0.47296</td>\n",
       "      <td>0.46845</td>\n",
       "      <td>0.39342</td>\n",
       "      <td>0.49214</td>\n",
       "      <td>0.39743</td>\n",
       "      <td>0</td>\n",
       "    </tr>\n",
       "    <tr>\n",
       "      <th>4</th>\n",
       "      <td>42442</td>\n",
       "      <td>era1</td>\n",
       "      <td>train</td>\n",
       "      <td>0.48893</td>\n",
       "      <td>0.54007</td>\n",
       "      <td>0.63199</td>\n",
       "      <td>0.46102</td>\n",
       "      <td>0.38900</td>\n",
       "      <td>0.50775</td>\n",
       "      <td>0.60127</td>\n",
       "      <td>...</td>\n",
       "      <td>0.39956</td>\n",
       "      <td>0.70195</td>\n",
       "      <td>0.67195</td>\n",
       "      <td>0.34842</td>\n",
       "      <td>0.59658</td>\n",
       "      <td>0.62032</td>\n",
       "      <td>0.64752</td>\n",
       "      <td>0.45098</td>\n",
       "      <td>0.40611</td>\n",
       "      <td>0</td>\n",
       "    </tr>\n",
       "  </tbody>\n",
       "</table>\n",
       "<p>5 rows × 25 columns</p>\n",
       "</div>"
      ],
      "text/plain": [
       "       id   era data_type  feature1  feature2  feature3  feature4  feature5  \\\n",
       "0   44885  era1     train   0.48082   0.50443   0.64472   0.42563   0.36493   \n",
       "1  128624  era1     train   0.29881   0.48132   0.74775   0.35139   0.34590   \n",
       "2   25226  era1     train   0.35476   0.55320   0.72901   0.41842   0.30004   \n",
       "3  138157  era1     train   0.54332   0.56586   0.46714   0.54309   0.59467   \n",
       "4   42442  era1     train   0.48893   0.54007   0.63199   0.46102   0.38900   \n",
       "\n",
       "   feature6  feature7   ...    feature13  feature14  feature15  feature16  \\\n",
       "0   0.43412   0.59584   ...      0.38062    0.69552    0.60017    0.36811   \n",
       "1   0.59582   0.47218   ...      0.25399    0.69524    0.54931    0.24025   \n",
       "2   0.50967   0.58637   ...      0.28310    0.76956    0.64866    0.29443   \n",
       "3   0.63145   0.33568   ...      0.53332    0.43072    0.36848    0.49746   \n",
       "4   0.50775   0.60127   ...      0.39956    0.70195    0.67195    0.34842   \n",
       "\n",
       "   feature17  feature18  feature19  feature20  feature21  target  \n",
       "0    0.61011    0.64667    0.57433    0.49981    0.45062       0  \n",
       "1    0.73879    0.74283    0.46221    0.61501    0.44855       0  \n",
       "2    0.70038    0.72421    0.53198    0.51801    0.38804       1  \n",
       "3    0.47296    0.46845    0.39342    0.49214    0.39743       0  \n",
       "4    0.59658    0.62032    0.64752    0.45098    0.40611       0  \n",
       "\n",
       "[5 rows x 25 columns]"
      ]
     },
     "execution_count": 5,
     "metadata": {},
     "output_type": "execute_result"
    }
   ],
   "source": [
    "# Load the data\n",
    "# File path\n",
    "train_path = '/Users/taylordye/Desktop/numerai_datasets (64)/numerai_training_data.csv'\n",
    "train_df = pd.read_csv(train_path)\n",
    "\n",
    "train_df.head()"
   ]
  },
  {
   "cell_type": "code",
   "execution_count": 6,
   "metadata": {
    "collapsed": false,
    "scrolled": true
   },
   "outputs": [
    {
     "data": {
      "text/html": [
       "<div>\n",
       "<table border=\"1\" class=\"dataframe\">\n",
       "  <thead>\n",
       "    <tr style=\"text-align: right;\">\n",
       "      <th></th>\n",
       "      <th>id</th>\n",
       "      <th>era</th>\n",
       "      <th>data_type</th>\n",
       "      <th>feature1</th>\n",
       "      <th>feature2</th>\n",
       "      <th>feature3</th>\n",
       "      <th>feature4</th>\n",
       "      <th>feature5</th>\n",
       "      <th>feature6</th>\n",
       "      <th>feature7</th>\n",
       "      <th>...</th>\n",
       "      <th>feature13</th>\n",
       "      <th>feature14</th>\n",
       "      <th>feature15</th>\n",
       "      <th>feature16</th>\n",
       "      <th>feature17</th>\n",
       "      <th>feature18</th>\n",
       "      <th>feature19</th>\n",
       "      <th>feature20</th>\n",
       "      <th>feature21</th>\n",
       "      <th>target</th>\n",
       "    </tr>\n",
       "  </thead>\n",
       "  <tbody>\n",
       "    <tr>\n",
       "      <th>0</th>\n",
       "      <td>32641</td>\n",
       "      <td>era97</td>\n",
       "      <td>validation</td>\n",
       "      <td>0.58228</td>\n",
       "      <td>0.54408</td>\n",
       "      <td>0.55255</td>\n",
       "      <td>0.52687</td>\n",
       "      <td>0.43723</td>\n",
       "      <td>0.46248</td>\n",
       "      <td>0.58303</td>\n",
       "      <td>...</td>\n",
       "      <td>0.48595</td>\n",
       "      <td>0.62503</td>\n",
       "      <td>0.59926</td>\n",
       "      <td>0.44971</td>\n",
       "      <td>0.51328</td>\n",
       "      <td>0.54355</td>\n",
       "      <td>0.61496</td>\n",
       "      <td>0.41511</td>\n",
       "      <td>0.41690</td>\n",
       "      <td>1.0</td>\n",
       "    </tr>\n",
       "    <tr>\n",
       "      <th>1</th>\n",
       "      <td>112348</td>\n",
       "      <td>era97</td>\n",
       "      <td>validation</td>\n",
       "      <td>0.24601</td>\n",
       "      <td>0.46172</td>\n",
       "      <td>0.78136</td>\n",
       "      <td>0.34749</td>\n",
       "      <td>0.35130</td>\n",
       "      <td>0.78562</td>\n",
       "      <td>0.40121</td>\n",
       "      <td>...</td>\n",
       "      <td>0.22749</td>\n",
       "      <td>0.65565</td>\n",
       "      <td>0.49220</td>\n",
       "      <td>0.21399</td>\n",
       "      <td>0.77513</td>\n",
       "      <td>0.76388</td>\n",
       "      <td>0.39902</td>\n",
       "      <td>0.66931</td>\n",
       "      <td>0.48594</td>\n",
       "      <td>1.0</td>\n",
       "    </tr>\n",
       "    <tr>\n",
       "      <th>2</th>\n",
       "      <td>25272</td>\n",
       "      <td>era97</td>\n",
       "      <td>validation</td>\n",
       "      <td>0.50668</td>\n",
       "      <td>0.44722</td>\n",
       "      <td>0.67618</td>\n",
       "      <td>0.41700</td>\n",
       "      <td>0.31515</td>\n",
       "      <td>0.40566</td>\n",
       "      <td>0.64946</td>\n",
       "      <td>...</td>\n",
       "      <td>0.37291</td>\n",
       "      <td>0.71875</td>\n",
       "      <td>0.61336</td>\n",
       "      <td>0.36777</td>\n",
       "      <td>0.62277</td>\n",
       "      <td>0.67088</td>\n",
       "      <td>0.61643</td>\n",
       "      <td>0.50787</td>\n",
       "      <td>0.51601</td>\n",
       "      <td>0.0</td>\n",
       "    </tr>\n",
       "    <tr>\n",
       "      <th>3</th>\n",
       "      <td>18968</td>\n",
       "      <td>era97</td>\n",
       "      <td>validation</td>\n",
       "      <td>0.50636</td>\n",
       "      <td>0.63478</td>\n",
       "      <td>0.55046</td>\n",
       "      <td>0.52136</td>\n",
       "      <td>0.47339</td>\n",
       "      <td>0.61386</td>\n",
       "      <td>0.52536</td>\n",
       "      <td>...</td>\n",
       "      <td>0.46061</td>\n",
       "      <td>0.62701</td>\n",
       "      <td>0.60301</td>\n",
       "      <td>0.42185</td>\n",
       "      <td>0.53153</td>\n",
       "      <td>0.54761</td>\n",
       "      <td>0.54812</td>\n",
       "      <td>0.42510</td>\n",
       "      <td>0.33908</td>\n",
       "      <td>0.0</td>\n",
       "    </tr>\n",
       "    <tr>\n",
       "      <th>4</th>\n",
       "      <td>64575</td>\n",
       "      <td>era97</td>\n",
       "      <td>validation</td>\n",
       "      <td>0.50030</td>\n",
       "      <td>0.48170</td>\n",
       "      <td>0.61656</td>\n",
       "      <td>0.45264</td>\n",
       "      <td>0.40540</td>\n",
       "      <td>0.42670</td>\n",
       "      <td>0.53949</td>\n",
       "      <td>...</td>\n",
       "      <td>0.41007</td>\n",
       "      <td>0.63426</td>\n",
       "      <td>0.55306</td>\n",
       "      <td>0.38399</td>\n",
       "      <td>0.58814</td>\n",
       "      <td>0.61208</td>\n",
       "      <td>0.56083</td>\n",
       "      <td>0.49818</td>\n",
       "      <td>0.45500</td>\n",
       "      <td>0.0</td>\n",
       "    </tr>\n",
       "  </tbody>\n",
       "</table>\n",
       "<p>5 rows × 25 columns</p>\n",
       "</div>"
      ],
      "text/plain": [
       "       id    era   data_type  feature1  feature2  feature3  feature4  \\\n",
       "0   32641  era97  validation   0.58228   0.54408   0.55255   0.52687   \n",
       "1  112348  era97  validation   0.24601   0.46172   0.78136   0.34749   \n",
       "2   25272  era97  validation   0.50668   0.44722   0.67618   0.41700   \n",
       "3   18968  era97  validation   0.50636   0.63478   0.55046   0.52136   \n",
       "4   64575  era97  validation   0.50030   0.48170   0.61656   0.45264   \n",
       "\n",
       "   feature5  feature6  feature7   ...    feature13  feature14  feature15  \\\n",
       "0   0.43723   0.46248   0.58303   ...      0.48595    0.62503    0.59926   \n",
       "1   0.35130   0.78562   0.40121   ...      0.22749    0.65565    0.49220   \n",
       "2   0.31515   0.40566   0.64946   ...      0.37291    0.71875    0.61336   \n",
       "3   0.47339   0.61386   0.52536   ...      0.46061    0.62701    0.60301   \n",
       "4   0.40540   0.42670   0.53949   ...      0.41007    0.63426    0.55306   \n",
       "\n",
       "   feature16  feature17  feature18  feature19  feature20  feature21  target  \n",
       "0    0.44971    0.51328    0.54355    0.61496    0.41511    0.41690     1.0  \n",
       "1    0.21399    0.77513    0.76388    0.39902    0.66931    0.48594     1.0  \n",
       "2    0.36777    0.62277    0.67088    0.61643    0.50787    0.51601     0.0  \n",
       "3    0.42185    0.53153    0.54761    0.54812    0.42510    0.33908     0.0  \n",
       "4    0.38399    0.58814    0.61208    0.56083    0.49818    0.45500     0.0  \n",
       "\n",
       "[5 rows x 25 columns]"
      ]
     },
     "execution_count": 6,
     "metadata": {},
     "output_type": "execute_result"
    }
   ],
   "source": [
    "# Load the tournement data\n",
    "test_path = '/Users/taylordye/Desktop/numerai_datasets (64)/numerai_tournament_data.csv'\n",
    "tournament_df = pd.read_csv(test_path)\n",
    "tournament_df.head()"
   ]
  },
  {
   "cell_type": "markdown",
   "metadata": {},
   "source": [
    "### Exploring the data"
   ]
  },
  {
   "cell_type": "code",
   "execution_count": 7,
   "metadata": {
    "collapsed": false,
    "scrolled": true
   },
   "outputs": [
    {
     "data": {
      "image/png": "[encoded data removed]",
      "text/plain": [
       "<matplotlib.figure.Figure at 0x11395de48>"
      ]
     },
     "metadata": {},
     "output_type": "display_data"
    }
   ],
   "source": [
    "# Explore the correlations in the data\n",
    "sns.heatmap(train_df.corr());"
   ]
  },
  {
   "cell_type": "markdown",
   "metadata": {},
   "source": [
    "Looks like we have some features that highly correlate with each other.\n",
    "May need to perform dimensionality reduction"
   ]
  },
  {
   "cell_type": "code",
   "execution_count": 30,
   "metadata": {
    "collapsed": false
   },
   "outputs": [
    {
     "name": "stdout",
     "output_type": "stream",
     "text": [
      "feature1 - 0.05414557358560525\n",
      "feature2 - 0.05107893549430734\n",
      "feature3 - 0.05023687998849231\n",
      "feature4 - 0.04984222205975176\n",
      "feature5 - 0.049275373046446386\n",
      "feature6 - 0.04926631275318675\n",
      "feature7 - 0.049184145229791046\n",
      "feature8 - 0.04861187307661515\n",
      "feature9 - 0.0476492105892047\n",
      "feature10 - 0.04756353132358724\n",
      "feature11 - 0.0475326174641803\n",
      "feature12 - 0.04735224313220278\n",
      "feature13 - 0.047194286701537844\n",
      "feature14 - 0.04703257178043567\n",
      "feature15 - 0.04607286018401819\n",
      "feature16 - 0.04552661866044762\n",
      "feature17 - 0.04538663982923717\n",
      "feature18 - 0.044478694216021665\n",
      "feature19 - 0.04446599994344927\n",
      "feature20 - 0.044153865503747766\n",
      "feature21 - 0.04394954543773376\n"
     ]
    }
   ],
   "source": [
    "# What do the important features looks like?\n",
    "rf_feature_selection(train_df, X, y)"
   ]
  },
  {
   "cell_type": "code",
   "execution_count": null,
   "metadata": {
    "collapsed": true
   },
   "outputs": [],
   "source": []
  },
  {
   "cell_type": "code",
   "execution_count": null,
   "metadata": {
    "collapsed": true
   },
   "outputs": [],
   "source": []
  },
  {
   "cell_type": "markdown",
   "metadata": {},
   "source": [
    "#### Modelling the Data"
   ]
  },
  {
   "cell_type": "code",
   "execution_count": 8,
   "metadata": {
    "collapsed": true
   },
   "outputs": [],
   "source": [
    "# Get the numeric data\n",
    "X = train_df.loc[:, 'feature1':'feature21'].values\n",
    "y = train_df.loc[:, 'target'].values\n",
    "\n",
    "X_test = tournament_df.loc[:, 'feature1':'feature21'].values"
   ]
  },
  {
   "cell_type": "code",
   "execution_count": null,
   "metadata": {
    "collapsed": true
   },
   "outputs": [],
   "source": []
  },
  {
   "cell_type": "code",
   "execution_count": 9,
   "metadata": {
    "collapsed": false
   },
   "outputs": [],
   "source": [
    "# We'll need Pipeline and other tools for the various models we'll try\n",
    "from sklearn.pipeline import Pipeline\n",
    "from sklearn.preprocessing import StandardScaler\n",
    "from sklearn.decomposition import PCA\n",
    "from sklearn.model_selection import GridSearchCV\n",
    "from sklearn.model_selection import cross_val_score\n",
    "from sklearn.metrics import log_loss"
   ]
  },
  {
   "cell_type": "markdown",
   "metadata": {},
   "source": [
    "Tried and true.. Logistic Regression"
   ]
  },
  {
   "cell_type": "code",
   "execution_count": 28,
   "metadata": {
    "collapsed": false,
    "scrolled": true
   },
   "outputs": [],
   "source": [
    "from sklearn.linear_model import LogisticRegression\n",
    "\n",
    "# Create the Pipeline\n",
    "logit_pipeline = Pipeline([('scaler', StandardScaler()),\n",
    "                           ('pca', PCA(n_components=3)),\n",
    "                           ('logit', LogisticRegression(solver='sag', n_jobs=2,\n",
    "                                                       C=0.01))])"
   ]
  },
  {
   "cell_type": "code",
   "execution_count": 29,
   "metadata": {
    "collapsed": true
   },
   "outputs": [],
   "source": [
    "# Cross-validate how well our model could do\n",
    "logit_pipe_log_score = cross_val_score(estimator=logit_pipeline, X=X, y=y,\n",
    "                                      cv=3, scoring='neg_log_loss')"
   ]
  },
  {
   "cell_type": "code",
   "execution_count": 30,
   "metadata": {
    "collapsed": false
   },
   "outputs": [
    {
     "name": "stdout",
     "output_type": "stream",
     "text": [
      "Avg log_loss: 0.69295 (+/-) 0.00005\n"
     ]
    }
   ],
   "source": [
    "# Print the score\n",
    "print(\"Avg log_loss: {:.5f} (+/-) {:.5f}\".format((np.mean(-1*logit_pipe_log_score)),\n",
    "                                                np.std(logit_pipe_log_score)))"
   ]
  },
  {
   "cell_type": "code",
   "execution_count": 22,
   "metadata": {
    "collapsed": true
   },
   "outputs": [],
   "source": [
    "# Get the best model and make predictions on the new data\n",
    "save_predictions((logit_pipe_gs.fit(X, y).predict_proba(X_test)),\n",
    "                tournament_df, tournament_nbr=64)"
   ]
  },
  {
   "cell_type": "markdown",
   "metadata": {
    "collapsed": true
   },
   "source": [
    "Let's try the StochasticGradientClassifier"
   ]
  },
  {
   "cell_type": "code",
   "execution_count": 19,
   "metadata": {
    "collapsed": true
   },
   "outputs": [],
   "source": [
    "from sklearn.linear_model import SGDClassifier\n",
    "\n",
    "# Make the SGDC pipeline\n",
    "sgdc_pipe = Pipeline([('scaler', StandardScaler()), ('pca', PCA(n_components=3)),\n",
    "                     ('sgdc', SGDClassifier(loss='log', n_jobs=2))])"
   ]
  },
  {
   "cell_type": "code",
   "execution_count": 20,
   "metadata": {
    "collapsed": true
   },
   "outputs": [],
   "source": [
    "# Cross validate\n",
    "# Cross-validate how well our model could do\n",
    "sgdc_pipe_score = cross_val_score(estimator=sgdc_pipe, X=X, y=y,\n",
    "                                      cv=3, scoring='neg_log_loss')"
   ]
  },
  {
   "cell_type": "code",
   "execution_count": 21,
   "metadata": {
    "collapsed": false
   },
   "outputs": [
    {
     "name": "stdout",
     "output_type": "stream",
     "text": [
      "Avg log_loss: 0.77024 (+/-) 0.07033\n"
     ]
    }
   ],
   "source": [
    "# Print the score\n",
    "print(\"Avg log_loss: {:.5f} (+/-) {:.5f}\".format((np.mean(-1*sgdc_pipe_score)),\n",
    "                                                np.std(sgdc_pipe_score)))"
   ]
  },
  {
   "cell_type": "markdown",
   "metadata": {
    "collapsed": true
   },
   "source": [
    "Let's split the data into training and testing so we can locally evaluate our model."
   ]
  },
  {
   "cell_type": "code",
   "execution_count": 33,
   "metadata": {
    "collapsed": false
   },
   "outputs": [],
   "source": [
    "from sklearn.cross_validation import train_test_split\n",
    "X_train, X_test, y_train, y_test = train_test_split(X, y, stratify=y)"
   ]
  },
  {
   "cell_type": "code",
   "execution_count": 37,
   "metadata": {
    "collapsed": true
   },
   "outputs": [
    {
     "name": "stderr",
     "output_type": "stream",
     "text": [
      "Process ForkPoolWorker-30:\n",
      "Process ForkPoolWorker-27:\n",
      "Process ForkPoolWorker-28:\n",
      "Process ForkPoolWorker-29:\n",
      "Process ForkPoolWorker-31:\n",
      "Process ForkPoolWorker-24:\n",
      "Process ForkPoolWorker-25:\n"
     ]
    },
    {
     "ename": "KeyboardInterrupt",
     "evalue": "",
     "output_type": "error",
     "traceback": [
      "\u001b[0;31m---------------------------------------------------------------------------\u001b[0m",
      "\u001b[0;31mKeyboardInterrupt\u001b[0m                         Traceback (most recent call last)",
      "\u001b[0;32m<ipython-input-37-89a34bd2f1d9>\u001b[0m in \u001b[0;36m<module>\u001b[0;34m()\u001b[0m\n\u001b[1;32m     16\u001b[0m \u001b[0;34m\u001b[0m\u001b[0m\n\u001b[1;32m     17\u001b[0m \u001b[0;31m# Fit the model\u001b[0m\u001b[0;34m\u001b[0m\u001b[0;34m\u001b[0m\u001b[0m\n\u001b[0;32m---> 18\u001b[0;31m \u001b[0mlogit_gscv\u001b[0m\u001b[0;34m.\u001b[0m\u001b[0mfit\u001b[0m\u001b[0;34m(\u001b[0m\u001b[0mX_train\u001b[0m\u001b[0;34m,\u001b[0m \u001b[0my_train\u001b[0m\u001b[0;34m)\u001b[0m\u001b[0;34m\u001b[0m\u001b[0m\n\u001b[0m",
      "\u001b[0;32m//anaconda/lib/python3.5/site-packages/sklearn/model_selection/_search.py\u001b[0m in \u001b[0;36mfit\u001b[0;34m(self, X, y, groups)\u001b[0m\n\u001b[1;32m    943\u001b[0m             \u001b[0mtrain\u001b[0m\u001b[0;34m/\u001b[0m\u001b[0mtest\u001b[0m \u001b[0mset\u001b[0m\u001b[0;34m.\u001b[0m\u001b[0;34m\u001b[0m\u001b[0m\n\u001b[1;32m    944\u001b[0m         \"\"\"\n\u001b[0;32m--> 945\u001b[0;31m         \u001b[0;32mreturn\u001b[0m \u001b[0mself\u001b[0m\u001b[0;34m.\u001b[0m\u001b[0m_fit\u001b[0m\u001b[0;34m(\u001b[0m\u001b[0mX\u001b[0m\u001b[0;34m,\u001b[0m \u001b[0my\u001b[0m\u001b[0;34m,\u001b[0m \u001b[0mgroups\u001b[0m\u001b[0;34m,\u001b[0m \u001b[0mParameterGrid\u001b[0m\u001b[0;34m(\u001b[0m\u001b[0mself\u001b[0m\u001b[0;34m.\u001b[0m\u001b[0mparam_grid\u001b[0m\u001b[0;34m)\u001b[0m\u001b[0;34m)\u001b[0m\u001b[0;34m\u001b[0m\u001b[0m\n\u001b[0m\u001b[1;32m    946\u001b[0m \u001b[0;34m\u001b[0m\u001b[0m\n\u001b[1;32m    947\u001b[0m \u001b[0;34m\u001b[0m\u001b[0m\n",
      "\u001b[0;32m//anaconda/lib/python3.5/site-packages/sklearn/model_selection/_search.py\u001b[0m in \u001b[0;36m_fit\u001b[0;34m(self, X, y, groups, parameter_iterable)\u001b[0m\n\u001b[1;32m    562\u001b[0m                                   \u001b[0mreturn_times\u001b[0m\u001b[0;34m=\u001b[0m\u001b[0;32mTrue\u001b[0m\u001b[0;34m,\u001b[0m \u001b[0mreturn_parameters\u001b[0m\u001b[0;34m=\u001b[0m\u001b[0;32mTrue\u001b[0m\u001b[0;34m,\u001b[0m\u001b[0;34m\u001b[0m\u001b[0m\n\u001b[1;32m    563\u001b[0m                                   error_score=self.error_score)\n\u001b[0;32m--> 564\u001b[0;31m           \u001b[0;32mfor\u001b[0m \u001b[0mparameters\u001b[0m \u001b[0;32min\u001b[0m \u001b[0mparameter_iterable\u001b[0m\u001b[0;34m\u001b[0m\u001b[0m\n\u001b[0m\u001b[1;32m    565\u001b[0m           for train, test in cv_iter)\n\u001b[1;32m    566\u001b[0m \u001b[0;34m\u001b[0m\u001b[0m\n",
      "\u001b[0;32m//anaconda/lib/python3.5/site-packages/sklearn/externals/joblib/parallel.py\u001b[0m in \u001b[0;36m__call__\u001b[0;34m(self, iterable)\u001b[0m\n\u001b[1;32m    766\u001b[0m                 \u001b[0;31m# consumption.\u001b[0m\u001b[0;34m\u001b[0m\u001b[0;34m\u001b[0m\u001b[0m\n\u001b[1;32m    767\u001b[0m                 \u001b[0mself\u001b[0m\u001b[0;34m.\u001b[0m\u001b[0m_iterating\u001b[0m \u001b[0;34m=\u001b[0m \u001b[0;32mFalse\u001b[0m\u001b[0;34m\u001b[0m\u001b[0m\n\u001b[0;32m--> 768\u001b[0;31m             \u001b[0mself\u001b[0m\u001b[0;34m.\u001b[0m\u001b[0mretrieve\u001b[0m\u001b[0;34m(\u001b[0m\u001b[0;34m)\u001b[0m\u001b[0;34m\u001b[0m\u001b[0m\n\u001b[0m\u001b[1;32m    769\u001b[0m             \u001b[0;31m# Make sure that we get a last message telling us we are done\u001b[0m\u001b[0;34m\u001b[0m\u001b[0;34m\u001b[0m\u001b[0m\n\u001b[1;32m    770\u001b[0m             \u001b[0melapsed_time\u001b[0m \u001b[0;34m=\u001b[0m \u001b[0mtime\u001b[0m\u001b[0;34m.\u001b[0m\u001b[0mtime\u001b[0m\u001b[0;34m(\u001b[0m\u001b[0;34m)\u001b[0m \u001b[0;34m-\u001b[0m \u001b[0mself\u001b[0m\u001b[0;34m.\u001b[0m\u001b[0m_start_time\u001b[0m\u001b[0;34m\u001b[0m\u001b[0m\n",
      "\u001b[0;32m//anaconda/lib/python3.5/site-packages/sklearn/externals/joblib/parallel.py\u001b[0m in \u001b[0;36mretrieve\u001b[0;34m(self)\u001b[0m\n\u001b[1;32m    717\u001b[0m                     \u001b[0mensure_ready\u001b[0m \u001b[0;34m=\u001b[0m \u001b[0mself\u001b[0m\u001b[0;34m.\u001b[0m\u001b[0m_managed_backend\u001b[0m\u001b[0;34m\u001b[0m\u001b[0m\n\u001b[1;32m    718\u001b[0m                     \u001b[0mbackend\u001b[0m\u001b[0;34m.\u001b[0m\u001b[0mabort_everything\u001b[0m\u001b[0;34m(\u001b[0m\u001b[0mensure_ready\u001b[0m\u001b[0;34m=\u001b[0m\u001b[0mensure_ready\u001b[0m\u001b[0;34m)\u001b[0m\u001b[0;34m\u001b[0m\u001b[0m\n\u001b[0;32m--> 719\u001b[0;31m                 \u001b[0;32mraise\u001b[0m \u001b[0mexception\u001b[0m\u001b[0;34m\u001b[0m\u001b[0m\n\u001b[0m\u001b[1;32m    720\u001b[0m \u001b[0;34m\u001b[0m\u001b[0m\n\u001b[1;32m    721\u001b[0m     \u001b[0;32mdef\u001b[0m \u001b[0m__call__\u001b[0m\u001b[0;34m(\u001b[0m\u001b[0mself\u001b[0m\u001b[0;34m,\u001b[0m \u001b[0miterable\u001b[0m\u001b[0;34m)\u001b[0m\u001b[0;34m:\u001b[0m\u001b[0;34m\u001b[0m\u001b[0m\n",
      "\u001b[0;32m//anaconda/lib/python3.5/site-packages/sklearn/externals/joblib/parallel.py\u001b[0m in \u001b[0;36mretrieve\u001b[0;34m(self)\u001b[0m\n\u001b[1;32m    680\u001b[0m                 \u001b[0;31m# check if timeout supported in backend future implementation\u001b[0m\u001b[0;34m\u001b[0m\u001b[0;34m\u001b[0m\u001b[0m\n\u001b[1;32m    681\u001b[0m                 \u001b[0;32mif\u001b[0m \u001b[0;34m'timeout'\u001b[0m \u001b[0;32min\u001b[0m \u001b[0mgetfullargspec\u001b[0m\u001b[0;34m(\u001b[0m\u001b[0mjob\u001b[0m\u001b[0;34m.\u001b[0m\u001b[0mget\u001b[0m\u001b[0;34m)\u001b[0m\u001b[0;34m.\u001b[0m\u001b[0margs\u001b[0m\u001b[0;34m:\u001b[0m\u001b[0;34m\u001b[0m\u001b[0m\n\u001b[0;32m--> 682\u001b[0;31m                     \u001b[0mself\u001b[0m\u001b[0;34m.\u001b[0m\u001b[0m_output\u001b[0m\u001b[0;34m.\u001b[0m\u001b[0mextend\u001b[0m\u001b[0;34m(\u001b[0m\u001b[0mjob\u001b[0m\u001b[0;34m.\u001b[0m\u001b[0mget\u001b[0m\u001b[0;34m(\u001b[0m\u001b[0mtimeout\u001b[0m\u001b[0;34m=\u001b[0m\u001b[0mself\u001b[0m\u001b[0;34m.\u001b[0m\u001b[0mtimeout\u001b[0m\u001b[0;34m)\u001b[0m\u001b[0;34m)\u001b[0m\u001b[0;34m\u001b[0m\u001b[0m\n\u001b[0m\u001b[1;32m    683\u001b[0m                 \u001b[0;32melse\u001b[0m\u001b[0;34m:\u001b[0m\u001b[0;34m\u001b[0m\u001b[0m\n\u001b[1;32m    684\u001b[0m                     \u001b[0mself\u001b[0m\u001b[0;34m.\u001b[0m\u001b[0m_output\u001b[0m\u001b[0;34m.\u001b[0m\u001b[0mextend\u001b[0m\u001b[0;34m(\u001b[0m\u001b[0mjob\u001b[0m\u001b[0;34m.\u001b[0m\u001b[0mget\u001b[0m\u001b[0;34m(\u001b[0m\u001b[0;34m)\u001b[0m\u001b[0;34m)\u001b[0m\u001b[0;34m\u001b[0m\u001b[0m\n",
      "\u001b[0;32m//anaconda/lib/python3.5/multiprocessing/pool.py\u001b[0m in \u001b[0;36mget\u001b[0;34m(self, timeout)\u001b[0m\n\u001b[1;32m    600\u001b[0m \u001b[0;34m\u001b[0m\u001b[0m\n\u001b[1;32m    601\u001b[0m     \u001b[0;32mdef\u001b[0m \u001b[0mget\u001b[0m\u001b[0;34m(\u001b[0m\u001b[0mself\u001b[0m\u001b[0;34m,\u001b[0m \u001b[0mtimeout\u001b[0m\u001b[0;34m=\u001b[0m\u001b[0;32mNone\u001b[0m\u001b[0;34m)\u001b[0m\u001b[0;34m:\u001b[0m\u001b[0;34m\u001b[0m\u001b[0m\n\u001b[0;32m--> 602\u001b[0;31m         \u001b[0mself\u001b[0m\u001b[0;34m.\u001b[0m\u001b[0mwait\u001b[0m\u001b[0;34m(\u001b[0m\u001b[0mtimeout\u001b[0m\u001b[0;34m)\u001b[0m\u001b[0;34m\u001b[0m\u001b[0m\n\u001b[0m\u001b[1;32m    603\u001b[0m         \u001b[0;32mif\u001b[0m \u001b[0;32mnot\u001b[0m \u001b[0mself\u001b[0m\u001b[0;34m.\u001b[0m\u001b[0mready\u001b[0m\u001b[0;34m(\u001b[0m\u001b[0;34m)\u001b[0m\u001b[0;34m:\u001b[0m\u001b[0;34m\u001b[0m\u001b[0m\n\u001b[1;32m    604\u001b[0m             \u001b[0;32mraise\u001b[0m \u001b[0mTimeoutError\u001b[0m\u001b[0;34m\u001b[0m\u001b[0m\n",
      "\u001b[0;32m//anaconda/lib/python3.5/multiprocessing/pool.py\u001b[0m in \u001b[0;36mwait\u001b[0;34m(self, timeout)\u001b[0m\n\u001b[1;32m    597\u001b[0m \u001b[0;34m\u001b[0m\u001b[0m\n\u001b[1;32m    598\u001b[0m     \u001b[0;32mdef\u001b[0m \u001b[0mwait\u001b[0m\u001b[0;34m(\u001b[0m\u001b[0mself\u001b[0m\u001b[0;34m,\u001b[0m \u001b[0mtimeout\u001b[0m\u001b[0;34m=\u001b[0m\u001b[0;32mNone\u001b[0m\u001b[0;34m)\u001b[0m\u001b[0;34m:\u001b[0m\u001b[0;34m\u001b[0m\u001b[0m\n\u001b[0;32m--> 599\u001b[0;31m         \u001b[0mself\u001b[0m\u001b[0;34m.\u001b[0m\u001b[0m_event\u001b[0m\u001b[0;34m.\u001b[0m\u001b[0mwait\u001b[0m\u001b[0;34m(\u001b[0m\u001b[0mtimeout\u001b[0m\u001b[0;34m)\u001b[0m\u001b[0;34m\u001b[0m\u001b[0m\n\u001b[0m\u001b[1;32m    600\u001b[0m \u001b[0;34m\u001b[0m\u001b[0m\n\u001b[1;32m    601\u001b[0m     \u001b[0;32mdef\u001b[0m \u001b[0mget\u001b[0m\u001b[0;34m(\u001b[0m\u001b[0mself\u001b[0m\u001b[0;34m,\u001b[0m \u001b[0mtimeout\u001b[0m\u001b[0;34m=\u001b[0m\u001b[0;32mNone\u001b[0m\u001b[0;34m)\u001b[0m\u001b[0;34m:\u001b[0m\u001b[0;34m\u001b[0m\u001b[0m\n",
      "\u001b[0;32m//anaconda/lib/python3.5/threading.py\u001b[0m in \u001b[0;36mwait\u001b[0;34m(self, timeout)\u001b[0m\n\u001b[1;32m    547\u001b[0m             \u001b[0msignaled\u001b[0m \u001b[0;34m=\u001b[0m \u001b[0mself\u001b[0m\u001b[0;34m.\u001b[0m\u001b[0m_flag\u001b[0m\u001b[0;34m\u001b[0m\u001b[0m\n\u001b[1;32m    548\u001b[0m             \u001b[0;32mif\u001b[0m \u001b[0;32mnot\u001b[0m \u001b[0msignaled\u001b[0m\u001b[0;34m:\u001b[0m\u001b[0;34m\u001b[0m\u001b[0m\n\u001b[0;32m--> 549\u001b[0;31m                 \u001b[0msignaled\u001b[0m \u001b[0;34m=\u001b[0m \u001b[0mself\u001b[0m\u001b[0;34m.\u001b[0m\u001b[0m_cond\u001b[0m\u001b[0;34m.\u001b[0m\u001b[0mwait\u001b[0m\u001b[0;34m(\u001b[0m\u001b[0mtimeout\u001b[0m\u001b[0;34m)\u001b[0m\u001b[0;34m\u001b[0m\u001b[0m\n\u001b[0m\u001b[1;32m    550\u001b[0m             \u001b[0;32mreturn\u001b[0m \u001b[0msignaled\u001b[0m\u001b[0;34m\u001b[0m\u001b[0m\n\u001b[1;32m    551\u001b[0m \u001b[0;34m\u001b[0m\u001b[0m\n",
      "\u001b[0;32m//anaconda/lib/python3.5/threading.py\u001b[0m in \u001b[0;36mwait\u001b[0;34m(self, timeout)\u001b[0m\n\u001b[1;32m    291\u001b[0m         \u001b[0;32mtry\u001b[0m\u001b[0;34m:\u001b[0m    \u001b[0;31m# restore state no matter what (e.g., KeyboardInterrupt)\u001b[0m\u001b[0;34m\u001b[0m\u001b[0m\n\u001b[1;32m    292\u001b[0m             \u001b[0;32mif\u001b[0m \u001b[0mtimeout\u001b[0m \u001b[0;32mis\u001b[0m \u001b[0;32mNone\u001b[0m\u001b[0;34m:\u001b[0m\u001b[0;34m\u001b[0m\u001b[0m\n\u001b[0;32m--> 293\u001b[0;31m                 \u001b[0mwaiter\u001b[0m\u001b[0;34m.\u001b[0m\u001b[0macquire\u001b[0m\u001b[0;34m(\u001b[0m\u001b[0;34m)\u001b[0m\u001b[0;34m\u001b[0m\u001b[0m\n\u001b[0m\u001b[1;32m    294\u001b[0m                 \u001b[0mgotit\u001b[0m \u001b[0;34m=\u001b[0m \u001b[0;32mTrue\u001b[0m\u001b[0;34m\u001b[0m\u001b[0m\n\u001b[1;32m    295\u001b[0m             \u001b[0;32melse\u001b[0m\u001b[0;34m:\u001b[0m\u001b[0;34m\u001b[0m\u001b[0m\n",
      "\u001b[0;31mKeyboardInterrupt\u001b[0m: "
     ]
    }
   ],
   "source": [
    "# Let's get the model's best parameters\n",
    "from sklearn.linear_model import LogisticRegression\n",
    "from sklearn.model_selection import GridSearchCV\n",
    "from sklearn.pipeline import Pipeline\n",
    "\n",
    "# Create the pipeline\n",
    "logit_pipe = Pipeline([('sclr', StandardScaler()), ('pca', PCA(n_components=3)),\n",
    "                      ('logit', LogisticRegression(solver='sag', n_jobs=2))])\n",
    "\n",
    "# Create the parameter grid\n",
    "param_grid = {'logit__C': [0.0001]}\n",
    "\n",
    "# Create the GridSearchCV object\n",
    "logit_gscv = GridSearchCV(estimator=logit_pipe, param_grid=param_grid, n_jobs=-1,\n",
    "                         scoring='neg_log_loss', cv=3)\n",
    "\n",
    "# Fit the model\n",
    "logit_gscv.fit(X_train, y_train)"
   ]
  },
  {
   "cell_type": "markdown",
   "metadata": {
    "collapsed": true
   },
   "source": [
    "Let's try some ensemble learners"
   ]
  },
  {
   "cell_type": "code",
   "execution_count": 40,
   "metadata": {
    "collapsed": false
   },
   "outputs": [],
   "source": [
    "from sklearn.ensemble import GradientBoostingClassifier\n",
    "\n",
    "# Create the model\n",
    "grad_boost = GradientBoostingClassifier(n_estimators=250)\n",
    "\n",
    "# CV the model\n",
    "grad_boost_log_score = cross_val_score(estimator=grad_boost, X=X, y=y, scoring='neg_log_loss')"
   ]
  },
  {
   "cell_type": "code",
   "execution_count": 42,
   "metadata": {
    "collapsed": false
   },
   "outputs": [
    {
     "name": "stdout",
     "output_type": "stream",
     "text": [
      "Avg log loss: 0.69389\n"
     ]
    }
   ],
   "source": [
    "# Print the average score\n",
    "print(\"Avg log loss: {:.5f}\".format(np.mean(-1 * grad_boost_log_score)))"
   ]
  },
  {
   "cell_type": "markdown",
   "metadata": {},
   "source": [
    "Worse than random guessing =["
   ]
  },
  {
   "cell_type": "code",
   "execution_count": null,
   "metadata": {
    "collapsed": true
   },
   "outputs": [],
   "source": [
    "from sklearn.ensemble import BaggingClassifier\n",
    "\n",
    "# Create the model\n",
    "bagg_model = BaggingClassifier(n_estimators=250)\n",
    "\n",
    "bag_score = cross_val_score(estimator=bagg_model, X=X, y=y, scoring='neg_log_loss')"
   ]
  },
  {
   "cell_type": "code",
   "execution_count": null,
   "metadata": {
    "collapsed": true
   },
   "outputs": [],
   "source": [
    "# Print the average score\n",
    "print(\"Avg log loss: {:.5f}\".format(np.mean(-1 * bag_score)))"
   ]
  },
  {
   "cell_type": "code",
   "execution_count": null,
   "metadata": {
    "collapsed": true
   },
   "outputs": [],
   "source": []
  },
  {
   "cell_type": "markdown",
   "metadata": {
    "collapsed": true
   },
   "source": [
    "#### Finding the optimal number of principle components"
   ]
  },
  {
   "cell_type": "code",
   "execution_count": 12,
   "metadata": {
    "collapsed": false
   },
   "outputs": [],
   "source": [
    "# Load the module\n",
    "from sklearn.decomposition import PCA\n",
    "\n",
    "# Instantiate PCA\n",
    "pca = PCA(n_components=None)\n",
    "\n",
    "# Fit_transform\n",
    "X_pca = pca.fit_transform(X)"
   ]
  },
  {
   "cell_type": "code",
   "execution_count": 14,
   "metadata": {
    "collapsed": false
   },
   "outputs": [],
   "source": [
    "# Get the explained variance\n",
    "var_exp = pca.explained_variance_ratio_"
   ]
  },
  {
   "cell_type": "code",
   "execution_count": 24,
   "metadata": {
    "collapsed": false
   },
   "outputs": [
    {
     "data": {
      "text/plain": [
       "array([  5.80733304e-01,   2.07050242e-01,   1.70034293e-01,\n",
       "         2.34735235e-02,   1.33701925e-02,   4.46744032e-03,\n",
       "         8.71004700e-04,   4.45106880e-11,   4.42533824e-11,\n",
       "         4.42323142e-11,   4.40521989e-11,   4.38441350e-11,\n",
       "         4.37721877e-11,   4.36456458e-11,   4.36139917e-11,\n",
       "         4.34768176e-11,   4.34109904e-11,   4.31449066e-11,\n",
       "         4.30527002e-11,   4.29580318e-11,   4.28222121e-11])"
      ]
     },
     "execution_count": 24,
     "metadata": {},
     "output_type": "execute_result"
    }
   ],
   "source": [
    "var_exp"
   ]
  },
  {
   "cell_type": "code",
   "execution_count": 28,
   "metadata": {
    "collapsed": true
   },
   "outputs": [],
   "source": [
    "# Use our own PCA analysis\n",
    "cov_matrix = np.cov(X.T)\n",
    "\n",
    "# Get the eigenvalues and eigenvectors\n",
    "eigen_val, eigen_vectors = np.linalg.eig(cov_matrix)"
   ]
  },
  {
   "cell_type": "code",
   "execution_count": 29,
   "metadata": {
    "collapsed": true
   },
   "outputs": [],
   "source": [
    "# Get the total\n",
    "total = sum(eigen_val)\n",
    "\n",
    "# Get variance explained ratio\n",
    "var_explained = [(i/total) for i in sorted(eigen_val, reverse=True)]\n",
    "\n",
    "# Cumulative sum\n",
    "cum_var_sum = np.cumsum(var_explained)"
   ]
  },
  {
   "cell_type": "code",
   "execution_count": 34,
   "metadata": {
    "collapsed": false
   },
   "outputs": [
    {
     "data": {
      "text/plain": [
       "[0.58073330360238395,\n",
       " 0.20705024161020821,\n",
       " 0.17003429320886762,\n",
       " 0.023473523493807335,\n",
       " 0.013370192454797135,\n",
       " 0.0044674403195089788,\n",
       " 0.00087100469963633919,\n",
       " 4.4510710124740516e-11,\n",
       " 4.4253395607037405e-11,\n",
       " 4.4232306125976246e-11,\n",
       " 4.4052220655379058e-11,\n",
       " 4.3844130798196611e-11,\n",
       " 4.3772180141070619e-11,\n",
       " 4.3645668904318119e-11,\n",
       " 4.3613993116006468e-11,\n",
       " 4.3476749438904132e-11,\n",
       " 4.3410985564316775e-11,\n",
       " 4.3144906578032578e-11,\n",
       " 4.3052713213432139e-11,\n",
       " 4.2958048312136168e-11,\n",
       " 4.2822279781904757e-11]"
      ]
     },
     "execution_count": 34,
     "metadata": {},
     "output_type": "execute_result"
    }
   ],
   "source": [
    "var_explained"
   ]
  },
  {
   "cell_type": "code",
   "execution_count": 39,
   "metadata": {
    "collapsed": true
   },
   "outputs": [],
   "source": [
    "# Create a dataframe to hold the data\n",
    "pca_data = pd.DataFrame(columns=['n_components', 'var_explained'], data={'n_components':list(range(1, 22)),\n",
    "                                                                        'var_explained': var_explained})"
   ]
  },
  {
   "cell_type": "code",
   "execution_count": 41,
   "metadata": {
    "collapsed": false,
    "scrolled": true
   },
   "outputs": [
    {
     "data": {
      "text/html": [
       "<div>\n",
       "<table border=\"1\" class=\"dataframe\">\n",
       "  <thead>\n",
       "    <tr style=\"text-align: right;\">\n",
       "      <th></th>\n",
       "      <th>var_explained</th>\n",
       "    </tr>\n",
       "    <tr>\n",
       "      <th>n_components</th>\n",
       "      <th></th>\n",
       "    </tr>\n",
       "  </thead>\n",
       "  <tbody>\n",
       "    <tr>\n",
       "      <th>1</th>\n",
       "      <td>5.807333e-01</td>\n",
       "    </tr>\n",
       "    <tr>\n",
       "      <th>2</th>\n",
       "      <td>2.070502e-01</td>\n",
       "    </tr>\n",
       "    <tr>\n",
       "      <th>3</th>\n",
       "      <td>1.700343e-01</td>\n",
       "    </tr>\n",
       "    <tr>\n",
       "      <th>4</th>\n",
       "      <td>2.347352e-02</td>\n",
       "    </tr>\n",
       "    <tr>\n",
       "      <th>5</th>\n",
       "      <td>1.337019e-02</td>\n",
       "    </tr>\n",
       "    <tr>\n",
       "      <th>6</th>\n",
       "      <td>4.467440e-03</td>\n",
       "    </tr>\n",
       "    <tr>\n",
       "      <th>7</th>\n",
       "      <td>8.710047e-04</td>\n",
       "    </tr>\n",
       "    <tr>\n",
       "      <th>8</th>\n",
       "      <td>4.451071e-11</td>\n",
       "    </tr>\n",
       "    <tr>\n",
       "      <th>9</th>\n",
       "      <td>4.425340e-11</td>\n",
       "    </tr>\n",
       "    <tr>\n",
       "      <th>10</th>\n",
       "      <td>4.423231e-11</td>\n",
       "    </tr>\n",
       "    <tr>\n",
       "      <th>11</th>\n",
       "      <td>4.405222e-11</td>\n",
       "    </tr>\n",
       "    <tr>\n",
       "      <th>12</th>\n",
       "      <td>4.384413e-11</td>\n",
       "    </tr>\n",
       "    <tr>\n",
       "      <th>13</th>\n",
       "      <td>4.377218e-11</td>\n",
       "    </tr>\n",
       "    <tr>\n",
       "      <th>14</th>\n",
       "      <td>4.364567e-11</td>\n",
       "    </tr>\n",
       "    <tr>\n",
       "      <th>15</th>\n",
       "      <td>4.361399e-11</td>\n",
       "    </tr>\n",
       "    <tr>\n",
       "      <th>16</th>\n",
       "      <td>4.347675e-11</td>\n",
       "    </tr>\n",
       "    <tr>\n",
       "      <th>17</th>\n",
       "      <td>4.341099e-11</td>\n",
       "    </tr>\n",
       "    <tr>\n",
       "      <th>18</th>\n",
       "      <td>4.314491e-11</td>\n",
       "    </tr>\n",
       "    <tr>\n",
       "      <th>19</th>\n",
       "      <td>4.305271e-11</td>\n",
       "    </tr>\n",
       "    <tr>\n",
       "      <th>20</th>\n",
       "      <td>4.295805e-11</td>\n",
       "    </tr>\n",
       "    <tr>\n",
       "      <th>21</th>\n",
       "      <td>4.282228e-11</td>\n",
       "    </tr>\n",
       "  </tbody>\n",
       "</table>\n",
       "</div>"
      ],
      "text/plain": [
       "              var_explained\n",
       "n_components               \n",
       "1              5.807333e-01\n",
       "2              2.070502e-01\n",
       "3              1.700343e-01\n",
       "4              2.347352e-02\n",
       "5              1.337019e-02\n",
       "6              4.467440e-03\n",
       "7              8.710047e-04\n",
       "8              4.451071e-11\n",
       "9              4.425340e-11\n",
       "10             4.423231e-11\n",
       "11             4.405222e-11\n",
       "12             4.384413e-11\n",
       "13             4.377218e-11\n",
       "14             4.364567e-11\n",
       "15             4.361399e-11\n",
       "16             4.347675e-11\n",
       "17             4.341099e-11\n",
       "18             4.314491e-11\n",
       "19             4.305271e-11\n",
       "20             4.295805e-11\n",
       "21             4.282228e-11"
      ]
     },
     "execution_count": 41,
     "metadata": {},
     "output_type": "execute_result"
    }
   ],
   "source": [
    "pca_data = pca_data.set_index('n_components')\n",
    "pca_data"
   ]
  },
  {
   "cell_type": "code",
   "execution_count": 44,
   "metadata": {
    "collapsed": false
   },
   "outputs": [
    {
     "data": {
      "image/png": "[encoded data removed]",
      "text/plain": [
       "<matplotlib.figure.Figure at 0x114826278>"
      ]
     },
     "metadata": {},
     "output_type": "display_data"
    }
   ],
   "source": [
    "# Plot\n",
    "pca_data.plot(kind='bar');"
   ]
  },
  {
   "cell_type": "code",
   "execution_count": null,
   "metadata": {
    "collapsed": true
   },
   "outputs": [],
   "source": []
  },
  {
   "cell_type": "code",
   "execution_count": null,
   "metadata": {
    "collapsed": true
   },
   "outputs": [],
   "source": []
  },
  {
   "cell_type": "code",
   "execution_count": null,
   "metadata": {
    "collapsed": true
   },
   "outputs": [],
   "source": []
  },
  {
   "cell_type": "code",
   "execution_count": null,
   "metadata": {
    "collapsed": true
   },
   "outputs": [],
   "source": []
  },
  {
   "cell_type": "code",
   "execution_count": null,
   "metadata": {
    "collapsed": true
   },
   "outputs": [],
   "source": []
  },
  {
   "cell_type": "code",
   "execution_count": null,
   "metadata": {
    "collapsed": true
   },
   "outputs": [],
   "source": []
  },
  {
   "cell_type": "code",
   "execution_count": null,
   "metadata": {
    "collapsed": true
   },
   "outputs": [],
   "source": []
  }
 ],
 "metadata": {
  "kernelspec": {
   "display_name": "Python 3",
   "language": "python",
   "name": "python3"
  },
  "language_info": {
   "codemirror_mode": {
    "name": "ipython",
    "version": 3
   },
   "file_extension": ".py",
   "mimetype": "text/x-python",
   "name": "python",
   "nbconvert_exporter": "python",
   "pygments_lexer": "ipython3",
   "version": "3.5.3"
  }
 },
 "nbformat": 4,
 "nbformat_minor": 0
}
