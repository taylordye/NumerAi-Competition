{
 "cells": [
  {
   "cell_type": "code",
   "execution_count": 5,
   "metadata": {
    "collapsed": true
   },
   "outputs": [],
   "source": [
    "# Load needed modules\n",
    "import pandas as pd\n",
    "import numpy as np\n",
    "import matplotlib.pyplot as plt"
   ]
  },
  {
   "cell_type": "code",
   "execution_count": 6,
   "metadata": {
    "collapsed": true
   },
   "outputs": [],
   "source": [
    "# Function that returns the Cross-Validation log_loss score\n",
    "def get_log_loss(grid_search_obj):\n",
    "    print(\"Best log_loss score: {:.5f}\".format(-1 * grid_search_obj.best_score_))"
   ]
  },
  {
   "cell_type": "code",
   "execution_count": 7,
   "metadata": {
    "collapsed": true
   },
   "outputs": [],
   "source": [
    "# Function that uses RandomForest to return most important features\n",
    "def rf_feature_selection(df, X, y):\n",
    "    # Create a random forest\n",
    "    from sklearn.ensemble import RandomForestClassifier\n",
    "\n",
    "    # Get the columns\n",
    "    cols = df.columns[3:-1]\n",
    "\n",
    "    # Make the forest\n",
    "    forest = RandomForestClassifier(n_estimators=100, n_jobs=2)\n",
    "\n",
    "    # Fit\n",
    "    forest.fit(X,y)\n",
    "\n",
    "    # Get the importances\n",
    "    importances = forest.feature_importances_\n",
    "\n",
    "    # Get the indices\n",
    "    indices = np.argsort(importances)[::-1]\n",
    "\n",
    "    # Show the importance of each feature\n",
    "    for f in range(X.shape[1]):\n",
    "        print(\"{} - {}\".format(cols[f], importances[indices[f]]))"
   ]
  },
  {
   "cell_type": "code",
   "execution_count": 8,
   "metadata": {
    "collapsed": true
   },
   "outputs": [],
   "source": [
    "# Function that takes the probabilities and ids and saves them to a CSV file\n",
    "def save_predictions(probabilities, tourney_df, tournament_nbr=60):\n",
    "    import pandas as pd\n",
    "    \n",
    "    # Get the probability of 1\n",
    "    prob_of_one = probabilities[:, 1]\n",
    "    \n",
    "    # Get the IDs\n",
    "    ids = tourney_df['id']\n",
    "    \n",
    "    # Join the data into one DataFrame\n",
    "    results = pd.DataFrame(data={'probability': prob_of_one})\n",
    "    results = pd.DataFrame(ids).join(results)\n",
    "    \n",
    "    # Save to CSV\n",
    "    results.to_csv(\"probabilities_{}.csv\".format(tournament_nbr), index=False)"
   ]
  },
  {
   "cell_type": "code",
   "execution_count": 9,
   "metadata": {
    "collapsed": false
   },
   "outputs": [
    {
     "data": {
      "text/html": [
       "<div>\n",
       "<table border=\"1\" class=\"dataframe\">\n",
       "  <thead>\n",
       "    <tr style=\"text-align: right;\">\n",
       "      <th></th>\n",
       "      <th>id</th>\n",
       "      <th>era</th>\n",
       "      <th>data_type</th>\n",
       "      <th>feature1</th>\n",
       "      <th>feature2</th>\n",
       "      <th>feature3</th>\n",
       "      <th>feature4</th>\n",
       "      <th>feature5</th>\n",
       "      <th>feature6</th>\n",
       "      <th>feature7</th>\n",
       "      <th>...</th>\n",
       "      <th>feature13</th>\n",
       "      <th>feature14</th>\n",
       "      <th>feature15</th>\n",
       "      <th>feature16</th>\n",
       "      <th>feature17</th>\n",
       "      <th>feature18</th>\n",
       "      <th>feature19</th>\n",
       "      <th>feature20</th>\n",
       "      <th>feature21</th>\n",
       "      <th>target</th>\n",
       "    </tr>\n",
       "  </thead>\n",
       "  <tbody>\n",
       "    <tr>\n",
       "      <th>0</th>\n",
       "      <td>30869</td>\n",
       "      <td>era1</td>\n",
       "      <td>train</td>\n",
       "      <td>0.80581</td>\n",
       "      <td>0.59023</td>\n",
       "      <td>0.33846</td>\n",
       "      <td>0.66893</td>\n",
       "      <td>0.60931</td>\n",
       "      <td>0.44031</td>\n",
       "      <td>0.54041</td>\n",
       "      <td>...</td>\n",
       "      <td>0.71156</td>\n",
       "      <td>0.44718</td>\n",
       "      <td>0.49803</td>\n",
       "      <td>0.65204</td>\n",
       "      <td>0.29910</td>\n",
       "      <td>0.33321</td>\n",
       "      <td>0.62169</td>\n",
       "      <td>0.30362</td>\n",
       "      <td>0.40045</td>\n",
       "      <td>1</td>\n",
       "    </tr>\n",
       "    <tr>\n",
       "      <th>1</th>\n",
       "      <td>153709</td>\n",
       "      <td>era1</td>\n",
       "      <td>train</td>\n",
       "      <td>0.54412</td>\n",
       "      <td>0.49768</td>\n",
       "      <td>0.63767</td>\n",
       "      <td>0.45867</td>\n",
       "      <td>0.34125</td>\n",
       "      <td>0.51880</td>\n",
       "      <td>0.66379</td>\n",
       "      <td>...</td>\n",
       "      <td>0.41867</td>\n",
       "      <td>0.69744</td>\n",
       "      <td>0.60291</td>\n",
       "      <td>0.42221</td>\n",
       "      <td>0.57828</td>\n",
       "      <td>0.63202</td>\n",
       "      <td>0.59929</td>\n",
       "      <td>0.48143</td>\n",
       "      <td>0.50796</td>\n",
       "      <td>1</td>\n",
       "    </tr>\n",
       "    <tr>\n",
       "      <th>2</th>\n",
       "      <td>39100</td>\n",
       "      <td>era1</td>\n",
       "      <td>train</td>\n",
       "      <td>0.52020</td>\n",
       "      <td>0.38561</td>\n",
       "      <td>0.73734</td>\n",
       "      <td>0.28803</td>\n",
       "      <td>0.23947</td>\n",
       "      <td>0.28526</td>\n",
       "      <td>0.81930</td>\n",
       "      <td>...</td>\n",
       "      <td>0.32548</td>\n",
       "      <td>0.85534</td>\n",
       "      <td>0.74794</td>\n",
       "      <td>0.29552</td>\n",
       "      <td>0.66491</td>\n",
       "      <td>0.74581</td>\n",
       "      <td>0.78279</td>\n",
       "      <td>0.52793</td>\n",
       "      <td>0.58432</td>\n",
       "      <td>1</td>\n",
       "    </tr>\n",
       "    <tr>\n",
       "      <th>3</th>\n",
       "      <td>146072</td>\n",
       "      <td>era1</td>\n",
       "      <td>train</td>\n",
       "      <td>0.25519</td>\n",
       "      <td>0.40359</td>\n",
       "      <td>0.83019</td>\n",
       "      <td>0.31328</td>\n",
       "      <td>0.26406</td>\n",
       "      <td>0.56522</td>\n",
       "      <td>0.50346</td>\n",
       "      <td>...</td>\n",
       "      <td>0.18752</td>\n",
       "      <td>0.73311</td>\n",
       "      <td>0.54077</td>\n",
       "      <td>0.19624</td>\n",
       "      <td>0.80862</td>\n",
       "      <td>0.81713</td>\n",
       "      <td>0.45656</td>\n",
       "      <td>0.66848</td>\n",
       "      <td>0.51978</td>\n",
       "      <td>1</td>\n",
       "    </tr>\n",
       "    <tr>\n",
       "      <th>4</th>\n",
       "      <td>140880</td>\n",
       "      <td>era1</td>\n",
       "      <td>train</td>\n",
       "      <td>0.60276</td>\n",
       "      <td>0.43162</td>\n",
       "      <td>0.55852</td>\n",
       "      <td>0.41156</td>\n",
       "      <td>0.42314</td>\n",
       "      <td>0.28048</td>\n",
       "      <td>0.59067</td>\n",
       "      <td>...</td>\n",
       "      <td>0.47205</td>\n",
       "      <td>0.60394</td>\n",
       "      <td>0.47279</td>\n",
       "      <td>0.47331</td>\n",
       "      <td>0.52210</td>\n",
       "      <td>0.58061</td>\n",
       "      <td>0.54359</td>\n",
       "      <td>0.52048</td>\n",
       "      <td>0.53967</td>\n",
       "      <td>1</td>\n",
       "    </tr>\n",
       "  </tbody>\n",
       "</table>\n",
       "<p>5 rows × 25 columns</p>\n",
       "</div>"
      ],
      "text/plain": [
       "       id   era data_type  feature1  feature2  feature3  feature4  feature5  \\\n",
       "0   30869  era1     train   0.80581   0.59023   0.33846   0.66893   0.60931   \n",
       "1  153709  era1     train   0.54412   0.49768   0.63767   0.45867   0.34125   \n",
       "2   39100  era1     train   0.52020   0.38561   0.73734   0.28803   0.23947   \n",
       "3  146072  era1     train   0.25519   0.40359   0.83019   0.31328   0.26406   \n",
       "4  140880  era1     train   0.60276   0.43162   0.55852   0.41156   0.42314   \n",
       "\n",
       "   feature6  feature7   ...    feature13  feature14  feature15  feature16  \\\n",
       "0   0.44031   0.54041   ...      0.71156    0.44718    0.49803    0.65204   \n",
       "1   0.51880   0.66379   ...      0.41867    0.69744    0.60291    0.42221   \n",
       "2   0.28526   0.81930   ...      0.32548    0.85534    0.74794    0.29552   \n",
       "3   0.56522   0.50346   ...      0.18752    0.73311    0.54077    0.19624   \n",
       "4   0.28048   0.59067   ...      0.47205    0.60394    0.47279    0.47331   \n",
       "\n",
       "   feature17  feature18  feature19  feature20  feature21  target  \n",
       "0    0.29910    0.33321    0.62169    0.30362    0.40045       1  \n",
       "1    0.57828    0.63202    0.59929    0.48143    0.50796       1  \n",
       "2    0.66491    0.74581    0.78279    0.52793    0.58432       1  \n",
       "3    0.80862    0.81713    0.45656    0.66848    0.51978       1  \n",
       "4    0.52210    0.58061    0.54359    0.52048    0.53967       1  \n",
       "\n",
       "[5 rows x 25 columns]"
      ]
     },
     "execution_count": 9,
     "metadata": {},
     "output_type": "execute_result"
    }
   ],
   "source": [
    "# Load the data\n",
    "# File path\n",
    "train_path = '/Users/taylordye/Desktop/numerai_datasets(62)/numerai_training_data.csv'\n",
    "train_df = pd.read_csv(train_path)\n",
    "\n",
    "train_df.head()"
   ]
  },
  {
   "cell_type": "code",
   "execution_count": 10,
   "metadata": {
    "collapsed": false
   },
   "outputs": [
    {
     "data": {
      "text/html": [
       "<div>\n",
       "<table border=\"1\" class=\"dataframe\">\n",
       "  <thead>\n",
       "    <tr style=\"text-align: right;\">\n",
       "      <th></th>\n",
       "      <th>id</th>\n",
       "      <th>era</th>\n",
       "      <th>data_type</th>\n",
       "      <th>feature1</th>\n",
       "      <th>feature2</th>\n",
       "      <th>feature3</th>\n",
       "      <th>feature4</th>\n",
       "      <th>feature5</th>\n",
       "      <th>feature6</th>\n",
       "      <th>feature7</th>\n",
       "      <th>...</th>\n",
       "      <th>feature13</th>\n",
       "      <th>feature14</th>\n",
       "      <th>feature15</th>\n",
       "      <th>feature16</th>\n",
       "      <th>feature17</th>\n",
       "      <th>feature18</th>\n",
       "      <th>feature19</th>\n",
       "      <th>feature20</th>\n",
       "      <th>feature21</th>\n",
       "      <th>target</th>\n",
       "    </tr>\n",
       "  </thead>\n",
       "  <tbody>\n",
       "    <tr>\n",
       "      <th>0</th>\n",
       "      <td>96144</td>\n",
       "      <td>era97</td>\n",
       "      <td>validation</td>\n",
       "      <td>0.56851</td>\n",
       "      <td>0.31365</td>\n",
       "      <td>0.66518</td>\n",
       "      <td>0.35125</td>\n",
       "      <td>0.32892</td>\n",
       "      <td>0.36261</td>\n",
       "      <td>0.63402</td>\n",
       "      <td>...</td>\n",
       "      <td>0.40269</td>\n",
       "      <td>0.64491</td>\n",
       "      <td>0.47552</td>\n",
       "      <td>0.40982</td>\n",
       "      <td>0.60408</td>\n",
       "      <td>0.66982</td>\n",
       "      <td>0.57779</td>\n",
       "      <td>0.59696</td>\n",
       "      <td>0.67462</td>\n",
       "      <td>1.0</td>\n",
       "    </tr>\n",
       "    <tr>\n",
       "      <th>1</th>\n",
       "      <td>17982</td>\n",
       "      <td>era97</td>\n",
       "      <td>validation</td>\n",
       "      <td>0.50546</td>\n",
       "      <td>0.43588</td>\n",
       "      <td>0.69312</td>\n",
       "      <td>0.34049</td>\n",
       "      <td>0.30613</td>\n",
       "      <td>0.52393</td>\n",
       "      <td>0.69548</td>\n",
       "      <td>...</td>\n",
       "      <td>0.36185</td>\n",
       "      <td>0.74445</td>\n",
       "      <td>0.60389</td>\n",
       "      <td>0.36263</td>\n",
       "      <td>0.63274</td>\n",
       "      <td>0.70123</td>\n",
       "      <td>0.61099</td>\n",
       "      <td>0.56300</td>\n",
       "      <td>0.58569</td>\n",
       "      <td>0.0</td>\n",
       "    </tr>\n",
       "    <tr>\n",
       "      <th>2</th>\n",
       "      <td>96161</td>\n",
       "      <td>era97</td>\n",
       "      <td>validation</td>\n",
       "      <td>0.42258</td>\n",
       "      <td>0.63478</td>\n",
       "      <td>0.60804</td>\n",
       "      <td>0.52483</td>\n",
       "      <td>0.43256</td>\n",
       "      <td>0.61563</td>\n",
       "      <td>0.49732</td>\n",
       "      <td>...</td>\n",
       "      <td>0.39536</td>\n",
       "      <td>0.64803</td>\n",
       "      <td>0.59994</td>\n",
       "      <td>0.37412</td>\n",
       "      <td>0.59534</td>\n",
       "      <td>0.59674</td>\n",
       "      <td>0.50139</td>\n",
       "      <td>0.44816</td>\n",
       "      <td>0.31181</td>\n",
       "      <td>1.0</td>\n",
       "    </tr>\n",
       "    <tr>\n",
       "      <th>3</th>\n",
       "      <td>53895</td>\n",
       "      <td>era97</td>\n",
       "      <td>validation</td>\n",
       "      <td>0.52451</td>\n",
       "      <td>0.63911</td>\n",
       "      <td>0.51010</td>\n",
       "      <td>0.56558</td>\n",
       "      <td>0.50251</td>\n",
       "      <td>0.55216</td>\n",
       "      <td>0.47071</td>\n",
       "      <td>...</td>\n",
       "      <td>0.49197</td>\n",
       "      <td>0.56144</td>\n",
       "      <td>0.50666</td>\n",
       "      <td>0.48477</td>\n",
       "      <td>0.49932</td>\n",
       "      <td>0.51205</td>\n",
       "      <td>0.45684</td>\n",
       "      <td>0.42574</td>\n",
       "      <td>0.32765</td>\n",
       "      <td>0.0</td>\n",
       "    </tr>\n",
       "    <tr>\n",
       "      <th>4</th>\n",
       "      <td>7267</td>\n",
       "      <td>era97</td>\n",
       "      <td>validation</td>\n",
       "      <td>0.51572</td>\n",
       "      <td>0.43398</td>\n",
       "      <td>0.55069</td>\n",
       "      <td>0.49226</td>\n",
       "      <td>0.50208</td>\n",
       "      <td>0.41294</td>\n",
       "      <td>0.37023</td>\n",
       "      <td>...</td>\n",
       "      <td>0.46277</td>\n",
       "      <td>0.46567</td>\n",
       "      <td>0.35225</td>\n",
       "      <td>0.44589</td>\n",
       "      <td>0.54606</td>\n",
       "      <td>0.54634</td>\n",
       "      <td>0.41125</td>\n",
       "      <td>0.54601</td>\n",
       "      <td>0.48034</td>\n",
       "      <td>0.0</td>\n",
       "    </tr>\n",
       "  </tbody>\n",
       "</table>\n",
       "<p>5 rows × 25 columns</p>\n",
       "</div>"
      ],
      "text/plain": [
       "      id    era   data_type  feature1  feature2  feature3  feature4  feature5  \\\n",
       "0  96144  era97  validation   0.56851   0.31365   0.66518   0.35125   0.32892   \n",
       "1  17982  era97  validation   0.50546   0.43588   0.69312   0.34049   0.30613   \n",
       "2  96161  era97  validation   0.42258   0.63478   0.60804   0.52483   0.43256   \n",
       "3  53895  era97  validation   0.52451   0.63911   0.51010   0.56558   0.50251   \n",
       "4   7267  era97  validation   0.51572   0.43398   0.55069   0.49226   0.50208   \n",
       "\n",
       "   feature6  feature7   ...    feature13  feature14  feature15  feature16  \\\n",
       "0   0.36261   0.63402   ...      0.40269    0.64491    0.47552    0.40982   \n",
       "1   0.52393   0.69548   ...      0.36185    0.74445    0.60389    0.36263   \n",
       "2   0.61563   0.49732   ...      0.39536    0.64803    0.59994    0.37412   \n",
       "3   0.55216   0.47071   ...      0.49197    0.56144    0.50666    0.48477   \n",
       "4   0.41294   0.37023   ...      0.46277    0.46567    0.35225    0.44589   \n",
       "\n",
       "   feature17  feature18  feature19  feature20  feature21  target  \n",
       "0    0.60408    0.66982    0.57779    0.59696    0.67462     1.0  \n",
       "1    0.63274    0.70123    0.61099    0.56300    0.58569     0.0  \n",
       "2    0.59534    0.59674    0.50139    0.44816    0.31181     1.0  \n",
       "3    0.49932    0.51205    0.45684    0.42574    0.32765     0.0  \n",
       "4    0.54606    0.54634    0.41125    0.54601    0.48034     0.0  \n",
       "\n",
       "[5 rows x 25 columns]"
      ]
     },
     "execution_count": 10,
     "metadata": {},
     "output_type": "execute_result"
    }
   ],
   "source": [
    "# Load the tournement data\n",
    "test_path = '/Users/taylordye/Desktop/numerai_datasets(62)/numerai_tournament_data.csv'\n",
    "tournament_df = pd.read_csv(test_path)\n",
    "tournament_df.head()"
   ]
  },
  {
   "cell_type": "markdown",
   "metadata": {},
   "source": [
    "### Feature Preprocessing"
   ]
  },
  {
   "cell_type": "code",
   "execution_count": 11,
   "metadata": {
    "collapsed": true
   },
   "outputs": [],
   "source": [
    "from sklearn.preprocessing import StandardScaler\n",
    "sclr = StandardScaler()"
   ]
  },
  {
   "cell_type": "code",
   "execution_count": 16,
   "metadata": {
    "collapsed": false
   },
   "outputs": [],
   "source": [
    "# Get the training and testing data\n",
    "X_train = sclr.fit_transform(train_df.loc[:, \"feature1\":\"feature21\"].values)\n",
    "y_train = train_df.loc[:, \"target\"].values\n",
    "X_test = sclr.transform(tournament_df.loc[:, 'feature1':'feature21'].values)"
   ]
  },
  {
   "cell_type": "markdown",
   "metadata": {},
   "source": [
    "### Feature Selection"
   ]
  },
  {
   "cell_type": "code",
   "execution_count": 47,
   "metadata": {
    "collapsed": false
   },
   "outputs": [
    {
     "name": "stdout",
     "output_type": "stream",
     "text": [
      "feature1 - 0.05438115437603896\n",
      "feature2 - 0.051411022886057124\n",
      "feature3 - 0.050125769299357664\n",
      "feature4 - 0.0496391380150376\n",
      "feature5 - 0.0493227219323956\n",
      "feature6 - 0.0489100335799153\n",
      "feature7 - 0.04890447961721969\n",
      "feature8 - 0.04817645751731975\n",
      "feature9 - 0.048045092612640124\n",
      "feature10 - 0.04779461600107142\n",
      "feature11 - 0.04778641270743054\n",
      "feature12 - 0.047508794129879434\n",
      "feature13 - 0.047503010697371416\n",
      "feature14 - 0.04633422203657533\n",
      "feature15 - 0.04626662464206865\n",
      "feature16 - 0.04542307272319142\n",
      "feature17 - 0.045407163879566434\n",
      "feature18 - 0.0445593340653168\n",
      "feature19 - 0.04447544760244952\n",
      "feature20 - 0.0441197179935388\n",
      "feature21 - 0.043905713685558484\n"
     ]
    }
   ],
   "source": [
    "rf_feature_selection(df=train_df, X=X_train, y=y_train)"
   ]
  },
  {
   "cell_type": "code",
   "execution_count": 48,
   "metadata": {
    "collapsed": true
   },
   "outputs": [],
   "source": [
    "# Pick the top 4 features for our data\n",
    "X_train = train_df.loc[:, 'feature1':'feature4'].values\n",
    "X_test = tournament_df.loc[:, 'feature1':'feature4'].values"
   ]
  },
  {
   "cell_type": "code",
   "execution_count": null,
   "metadata": {
    "collapsed": true
   },
   "outputs": [],
   "source": []
  },
  {
   "cell_type": "code",
   "execution_count": null,
   "metadata": {
    "collapsed": true
   },
   "outputs": [],
   "source": []
  },
  {
   "cell_type": "code",
   "execution_count": null,
   "metadata": {
    "collapsed": true
   },
   "outputs": [],
   "source": []
  },
  {
   "cell_type": "code",
   "execution_count": null,
   "metadata": {
    "collapsed": true
   },
   "outputs": [],
   "source": []
  },
  {
   "cell_type": "markdown",
   "metadata": {},
   "source": [
    "### Modelling"
   ]
  },
  {
   "cell_type": "markdown",
   "metadata": {},
   "source": [
    "Logistic Regression and AdaBoost"
   ]
  },
  {
   "cell_type": "code",
   "execution_count": 59,
   "metadata": {
    "collapsed": false
   },
   "outputs": [
    {
     "data": {
      "text/plain": [
       "AdaBoostClassifier(algorithm='SAMME.R',\n",
       "          base_estimator=LogisticRegression(C=0.001, class_weight=None, dual=False, fit_intercept=True,\n",
       "          intercept_scaling=1, max_iter=100, multi_class='ovr', n_jobs=2,\n",
       "          penalty='l2', random_state=None, solver='liblinear', tol=0.0001,\n",
       "          verbose=0, warm_start=False),\n",
       "          learning_rate=1.0, n_estimators=500, random_state=None)"
      ]
     },
     "execution_count": 59,
     "metadata": {},
     "output_type": "execute_result"
    }
   ],
   "source": [
    "from sklearn.ensemble import AdaBoostClassifier\n",
    "from sklearn.linear_model import LogisticRegression\n",
    "\n",
    "# Instantiate\n",
    "ada_logit = AdaBoostClassifier(base_estimator=LogisticRegression(n_jobs=2, C=0.001), n_estimators=500)\n",
    "\n",
    "# Fit\n",
    "ada_logit.fit(X_train, y_train)"
   ]
  },
  {
   "cell_type": "code",
   "execution_count": 60,
   "metadata": {
    "collapsed": true
   },
   "outputs": [],
   "source": [
    "# Predict and save\n",
    "save_predictions((ada_logit.predict_proba(X_test)), tournament_df, tournament_nbr=62)"
   ]
  },
  {
   "cell_type": "code",
   "execution_count": null,
   "metadata": {
    "collapsed": true
   },
   "outputs": [],
   "source": []
  },
  {
   "cell_type": "code",
   "execution_count": null,
   "metadata": {
    "collapsed": true
   },
   "outputs": [],
   "source": []
  },
  {
   "cell_type": "code",
   "execution_count": null,
   "metadata": {
    "collapsed": true
   },
   "outputs": [],
   "source": []
  },
  {
   "cell_type": "code",
   "execution_count": null,
   "metadata": {
    "collapsed": true
   },
   "outputs": [],
   "source": []
  },
  {
   "cell_type": "code",
   "execution_count": null,
   "metadata": {
    "collapsed": true
   },
   "outputs": [],
   "source": []
  },
  {
   "cell_type": "code",
   "execution_count": null,
   "metadata": {
    "collapsed": true
   },
   "outputs": [],
   "source": []
  },
  {
   "cell_type": "code",
   "execution_count": null,
   "metadata": {
    "collapsed": true
   },
   "outputs": [],
   "source": []
  },
  {
   "cell_type": "code",
   "execution_count": null,
   "metadata": {
    "collapsed": true
   },
   "outputs": [],
   "source": []
  }
 ],
 "metadata": {
  "kernelspec": {
   "display_name": "Python 3",
   "language": "python",
   "name": "python3"
  },
  "language_info": {
   "codemirror_mode": {
    "name": "ipython",
    "version": 3
   },
   "file_extension": ".py",
   "mimetype": "text/x-python",
   "name": "python",
   "nbconvert_exporter": "python",
   "pygments_lexer": "ipython3",
   "version": "3.5.3"
  }
 },
 "nbformat": 4,
 "nbformat_minor": 0
}
