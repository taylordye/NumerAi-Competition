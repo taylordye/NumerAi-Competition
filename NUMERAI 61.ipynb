{
 "cells": [
  {
   "cell_type": "code",
   "execution_count": 1,
   "metadata": {
    "collapsed": true
   },
   "outputs": [],
   "source": [
    "%matplotlib inline\n",
    "import pandas as pd\n",
    "import numpy as np\n",
    "import matplotlib.pyplot as plt\n",
    "import seaborn as sns"
   ]
  },
  {
   "cell_type": "code",
   "execution_count": 2,
   "metadata": {
    "collapsed": true
   },
   "outputs": [],
   "source": [
    "# Function that returns the Cross-Validation log_loss score\n",
    "def get_log_loss(grid_search_obj):\n",
    "    print(\"Best log_loss score: {:.5f}\".format(-1 * grid_search_obj.best_score_))"
   ]
  },
  {
   "cell_type": "code",
   "execution_count": 3,
   "metadata": {
    "collapsed": true
   },
   "outputs": [],
   "source": [
    "# Function that uses RandomForest to return most important features\n",
    "def rf_feature_selection(df, X, y):\n",
    "    # Create a random forest\n",
    "    from sklearn.ensemble import RandomForestClassifier\n",
    "\n",
    "    # Get the columns\n",
    "    cols = df.columns[3:-1]\n",
    "\n",
    "    # Make the forest\n",
    "    forest = RandomForestClassifier(n_estimators=100, n_jobs=2)\n",
    "\n",
    "    # Fit\n",
    "    forest.fit(X,y)\n",
    "\n",
    "    # Get the importances\n",
    "    importances = forest.feature_importances_\n",
    "\n",
    "    # Get the indices\n",
    "    indices = np.argsort(importances)[::-1]\n",
    "\n",
    "    # Show the importance of each feature\n",
    "    for f in range(X.shape[1]):\n",
    "        print(\"{} - {}\".format(cols[f], importances[indices[f]]))"
   ]
  },
  {
   "cell_type": "code",
   "execution_count": 19,
   "metadata": {
    "collapsed": true
   },
   "outputs": [],
   "source": [
    "# Function that takes the probabilities and ids and saves them to a CSV file\n",
    "def save_predictions(probabilities, tourney_df, tournament_nbr=60):\n",
    "    import pandas as pd\n",
    "    \n",
    "    # Get the probability of 1\n",
    "    prob_of_one = probabilities[:, 1]\n",
    "    \n",
    "    # Get the IDs\n",
    "    ids = tourney_df['id']\n",
    "    \n",
    "    # Join the data into one DataFrame\n",
    "    results = pd.DataFrame(data={'probability': prob_of_one})\n",
    "    results = pd.DataFrame(ids).join(results)\n",
    "    \n",
    "    # Save to CSV\n",
    "    results.to_csv(\"probabilities_{}.csv\".format(tournament_nbr), index=False)"
   ]
  },
  {
   "cell_type": "code",
   "execution_count": 4,
   "metadata": {
    "collapsed": false
   },
   "outputs": [
    {
     "data": {
      "text/html": [
       "<div>\n",
       "<table border=\"1\" class=\"dataframe\">\n",
       "  <thead>\n",
       "    <tr style=\"text-align: right;\">\n",
       "      <th></th>\n",
       "      <th>id</th>\n",
       "      <th>era</th>\n",
       "      <th>data_type</th>\n",
       "      <th>feature1</th>\n",
       "      <th>feature2</th>\n",
       "      <th>feature3</th>\n",
       "      <th>feature4</th>\n",
       "      <th>feature5</th>\n",
       "      <th>feature6</th>\n",
       "      <th>feature7</th>\n",
       "      <th>...</th>\n",
       "      <th>feature13</th>\n",
       "      <th>feature14</th>\n",
       "      <th>feature15</th>\n",
       "      <th>feature16</th>\n",
       "      <th>feature17</th>\n",
       "      <th>feature18</th>\n",
       "      <th>feature19</th>\n",
       "      <th>feature20</th>\n",
       "      <th>feature21</th>\n",
       "      <th>target</th>\n",
       "    </tr>\n",
       "  </thead>\n",
       "  <tbody>\n",
       "    <tr>\n",
       "      <th>0</th>\n",
       "      <td>518647</td>\n",
       "      <td>era1</td>\n",
       "      <td>train</td>\n",
       "      <td>0.26647</td>\n",
       "      <td>0.42487</td>\n",
       "      <td>0.81401</td>\n",
       "      <td>0.22889</td>\n",
       "      <td>0.27456</td>\n",
       "      <td>0.55654</td>\n",
       "      <td>0.55310</td>\n",
       "      <td>...</td>\n",
       "      <td>0.18847</td>\n",
       "      <td>0.77235</td>\n",
       "      <td>0.55002</td>\n",
       "      <td>0.20237</td>\n",
       "      <td>0.79605</td>\n",
       "      <td>0.82971</td>\n",
       "      <td>0.45757</td>\n",
       "      <td>0.69761</td>\n",
       "      <td>0.53739</td>\n",
       "      <td>1</td>\n",
       "    </tr>\n",
       "    <tr>\n",
       "      <th>1</th>\n",
       "      <td>581542</td>\n",
       "      <td>era1</td>\n",
       "      <td>train</td>\n",
       "      <td>0.41334</td>\n",
       "      <td>0.47533</td>\n",
       "      <td>0.71847</td>\n",
       "      <td>0.40792</td>\n",
       "      <td>0.32433</td>\n",
       "      <td>0.55806</td>\n",
       "      <td>0.59592</td>\n",
       "      <td>...</td>\n",
       "      <td>0.32083</td>\n",
       "      <td>0.72435</td>\n",
       "      <td>0.63751</td>\n",
       "      <td>0.29143</td>\n",
       "      <td>0.67860</td>\n",
       "      <td>0.70083</td>\n",
       "      <td>0.59967</td>\n",
       "      <td>0.53103</td>\n",
       "      <td>0.47446</td>\n",
       "      <td>1</td>\n",
       "    </tr>\n",
       "    <tr>\n",
       "      <th>2</th>\n",
       "      <td>630790</td>\n",
       "      <td>era1</td>\n",
       "      <td>train</td>\n",
       "      <td>0.48937</td>\n",
       "      <td>0.56030</td>\n",
       "      <td>0.59150</td>\n",
       "      <td>0.46432</td>\n",
       "      <td>0.42291</td>\n",
       "      <td>0.54177</td>\n",
       "      <td>0.53542</td>\n",
       "      <td>...</td>\n",
       "      <td>0.42195</td>\n",
       "      <td>0.62651</td>\n",
       "      <td>0.51604</td>\n",
       "      <td>0.42938</td>\n",
       "      <td>0.56744</td>\n",
       "      <td>0.60008</td>\n",
       "      <td>0.46966</td>\n",
       "      <td>0.50322</td>\n",
       "      <td>0.42803</td>\n",
       "      <td>1</td>\n",
       "    </tr>\n",
       "    <tr>\n",
       "      <th>3</th>\n",
       "      <td>646251</td>\n",
       "      <td>era1</td>\n",
       "      <td>train</td>\n",
       "      <td>0.61195</td>\n",
       "      <td>0.65958</td>\n",
       "      <td>0.45877</td>\n",
       "      <td>0.56730</td>\n",
       "      <td>0.51889</td>\n",
       "      <td>0.45049</td>\n",
       "      <td>0.56030</td>\n",
       "      <td>...</td>\n",
       "      <td>0.54803</td>\n",
       "      <td>0.59120</td>\n",
       "      <td>0.58160</td>\n",
       "      <td>0.51828</td>\n",
       "      <td>0.43870</td>\n",
       "      <td>0.47011</td>\n",
       "      <td>0.56007</td>\n",
       "      <td>0.36374</td>\n",
       "      <td>0.31552</td>\n",
       "      <td>1</td>\n",
       "    </tr>\n",
       "    <tr>\n",
       "      <th>4</th>\n",
       "      <td>558386</td>\n",
       "      <td>era1</td>\n",
       "      <td>train</td>\n",
       "      <td>0.43758</td>\n",
       "      <td>0.50085</td>\n",
       "      <td>0.60446</td>\n",
       "      <td>0.46663</td>\n",
       "      <td>0.47157</td>\n",
       "      <td>0.59667</td>\n",
       "      <td>0.40161</td>\n",
       "      <td>...</td>\n",
       "      <td>0.40535</td>\n",
       "      <td>0.54366</td>\n",
       "      <td>0.44763</td>\n",
       "      <td>0.37668</td>\n",
       "      <td>0.59931</td>\n",
       "      <td>0.59539</td>\n",
       "      <td>0.43771</td>\n",
       "      <td>0.54767</td>\n",
       "      <td>0.43742</td>\n",
       "      <td>1</td>\n",
       "    </tr>\n",
       "  </tbody>\n",
       "</table>\n",
       "<p>5 rows × 25 columns</p>\n",
       "</div>"
      ],
      "text/plain": [
       "       id   era data_type  feature1  feature2  feature3  feature4  feature5  \\\n",
       "0  518647  era1     train   0.26647   0.42487   0.81401   0.22889   0.27456   \n",
       "1  581542  era1     train   0.41334   0.47533   0.71847   0.40792   0.32433   \n",
       "2  630790  era1     train   0.48937   0.56030   0.59150   0.46432   0.42291   \n",
       "3  646251  era1     train   0.61195   0.65958   0.45877   0.56730   0.51889   \n",
       "4  558386  era1     train   0.43758   0.50085   0.60446   0.46663   0.47157   \n",
       "\n",
       "   feature6  feature7   ...    feature13  feature14  feature15  feature16  \\\n",
       "0   0.55654   0.55310   ...      0.18847    0.77235    0.55002    0.20237   \n",
       "1   0.55806   0.59592   ...      0.32083    0.72435    0.63751    0.29143   \n",
       "2   0.54177   0.53542   ...      0.42195    0.62651    0.51604    0.42938   \n",
       "3   0.45049   0.56030   ...      0.54803    0.59120    0.58160    0.51828   \n",
       "4   0.59667   0.40161   ...      0.40535    0.54366    0.44763    0.37668   \n",
       "\n",
       "   feature17  feature18  feature19  feature20  feature21  target  \n",
       "0    0.79605    0.82971    0.45757    0.69761    0.53739       1  \n",
       "1    0.67860    0.70083    0.59967    0.53103    0.47446       1  \n",
       "2    0.56744    0.60008    0.46966    0.50322    0.42803       1  \n",
       "3    0.43870    0.47011    0.56007    0.36374    0.31552       1  \n",
       "4    0.59931    0.59539    0.43771    0.54767    0.43742       1  \n",
       "\n",
       "[5 rows x 25 columns]"
      ]
     },
     "execution_count": 4,
     "metadata": {},
     "output_type": "execute_result"
    }
   ],
   "source": [
    "# Load the data\n",
    "# File path\n",
    "train_path = '/Users/taylordye/Desktop/numerai_datasets/numerai_training_data.csv'\n",
    "train_df = pd.read_csv(train_path)\n",
    "\n",
    "train_df.head()"
   ]
  },
  {
   "cell_type": "code",
   "execution_count": 5,
   "metadata": {
    "collapsed": false
   },
   "outputs": [
    {
     "data": {
      "text/html": [
       "<div>\n",
       "<table border=\"1\" class=\"dataframe\">\n",
       "  <thead>\n",
       "    <tr style=\"text-align: right;\">\n",
       "      <th></th>\n",
       "      <th>id</th>\n",
       "      <th>era</th>\n",
       "      <th>data_type</th>\n",
       "      <th>feature1</th>\n",
       "      <th>feature2</th>\n",
       "      <th>feature3</th>\n",
       "      <th>feature4</th>\n",
       "      <th>feature5</th>\n",
       "      <th>feature6</th>\n",
       "      <th>feature7</th>\n",
       "      <th>...</th>\n",
       "      <th>feature13</th>\n",
       "      <th>feature14</th>\n",
       "      <th>feature15</th>\n",
       "      <th>feature16</th>\n",
       "      <th>feature17</th>\n",
       "      <th>feature18</th>\n",
       "      <th>feature19</th>\n",
       "      <th>feature20</th>\n",
       "      <th>feature21</th>\n",
       "      <th>target</th>\n",
       "    </tr>\n",
       "  </thead>\n",
       "  <tbody>\n",
       "    <tr>\n",
       "      <th>0</th>\n",
       "      <td>535632</td>\n",
       "      <td>era97</td>\n",
       "      <td>validation</td>\n",
       "      <td>0.54177</td>\n",
       "      <td>0.64267</td>\n",
       "      <td>0.54365</td>\n",
       "      <td>0.53625</td>\n",
       "      <td>0.43622</td>\n",
       "      <td>0.49010</td>\n",
       "      <td>0.59626</td>\n",
       "      <td>...</td>\n",
       "      <td>0.46999</td>\n",
       "      <td>0.65848</td>\n",
       "      <td>0.61414</td>\n",
       "      <td>0.46340</td>\n",
       "      <td>0.51415</td>\n",
       "      <td>0.54882</td>\n",
       "      <td>0.54992</td>\n",
       "      <td>0.39919</td>\n",
       "      <td>0.33837</td>\n",
       "      <td>1.0</td>\n",
       "    </tr>\n",
       "    <tr>\n",
       "      <th>1</th>\n",
       "      <td>526056</td>\n",
       "      <td>era97</td>\n",
       "      <td>validation</td>\n",
       "      <td>0.46513</td>\n",
       "      <td>0.55879</td>\n",
       "      <td>0.61386</td>\n",
       "      <td>0.48131</td>\n",
       "      <td>0.39930</td>\n",
       "      <td>0.41525</td>\n",
       "      <td>0.54916</td>\n",
       "      <td>...</td>\n",
       "      <td>0.39465</td>\n",
       "      <td>0.66286</td>\n",
       "      <td>0.58364</td>\n",
       "      <td>0.38549</td>\n",
       "      <td>0.59305</td>\n",
       "      <td>0.61357</td>\n",
       "      <td>0.52784</td>\n",
       "      <td>0.46704</td>\n",
       "      <td>0.37416</td>\n",
       "      <td>1.0</td>\n",
       "    </tr>\n",
       "    <tr>\n",
       "      <th>2</th>\n",
       "      <td>621500</td>\n",
       "      <td>era97</td>\n",
       "      <td>validation</td>\n",
       "      <td>0.57906</td>\n",
       "      <td>0.57836</td>\n",
       "      <td>0.55062</td>\n",
       "      <td>0.50582</td>\n",
       "      <td>0.42531</td>\n",
       "      <td>0.53203</td>\n",
       "      <td>0.61312</td>\n",
       "      <td>...</td>\n",
       "      <td>0.48369</td>\n",
       "      <td>0.63943</td>\n",
       "      <td>0.56807</td>\n",
       "      <td>0.48388</td>\n",
       "      <td>0.50785</td>\n",
       "      <td>0.55630</td>\n",
       "      <td>0.55099</td>\n",
       "      <td>0.43983</td>\n",
       "      <td>0.43469</td>\n",
       "      <td>0.0</td>\n",
       "    </tr>\n",
       "    <tr>\n",
       "      <th>3</th>\n",
       "      <td>561590</td>\n",
       "      <td>era97</td>\n",
       "      <td>validation</td>\n",
       "      <td>0.49406</td>\n",
       "      <td>0.57476</td>\n",
       "      <td>0.59178</td>\n",
       "      <td>0.50592</td>\n",
       "      <td>0.44062</td>\n",
       "      <td>0.54272</td>\n",
       "      <td>0.55000</td>\n",
       "      <td>...</td>\n",
       "      <td>0.43125</td>\n",
       "      <td>0.64981</td>\n",
       "      <td>0.64190</td>\n",
       "      <td>0.37122</td>\n",
       "      <td>0.56728</td>\n",
       "      <td>0.57653</td>\n",
       "      <td>0.61470</td>\n",
       "      <td>0.42992</td>\n",
       "      <td>0.36342</td>\n",
       "      <td>1.0</td>\n",
       "    </tr>\n",
       "    <tr>\n",
       "      <th>4</th>\n",
       "      <td>523587</td>\n",
       "      <td>era97</td>\n",
       "      <td>validation</td>\n",
       "      <td>0.59719</td>\n",
       "      <td>0.45569</td>\n",
       "      <td>0.55065</td>\n",
       "      <td>0.41892</td>\n",
       "      <td>0.45174</td>\n",
       "      <td>0.47165</td>\n",
       "      <td>0.56128</td>\n",
       "      <td>...</td>\n",
       "      <td>0.48639</td>\n",
       "      <td>0.57764</td>\n",
       "      <td>0.45624</td>\n",
       "      <td>0.47852</td>\n",
       "      <td>0.51380</td>\n",
       "      <td>0.56741</td>\n",
       "      <td>0.52313</td>\n",
       "      <td>0.53296</td>\n",
       "      <td>0.55182</td>\n",
       "      <td>1.0</td>\n",
       "    </tr>\n",
       "  </tbody>\n",
       "</table>\n",
       "<p>5 rows × 25 columns</p>\n",
       "</div>"
      ],
      "text/plain": [
       "       id    era   data_type  feature1  feature2  feature3  feature4  \\\n",
       "0  535632  era97  validation   0.54177   0.64267   0.54365   0.53625   \n",
       "1  526056  era97  validation   0.46513   0.55879   0.61386   0.48131   \n",
       "2  621500  era97  validation   0.57906   0.57836   0.55062   0.50582   \n",
       "3  561590  era97  validation   0.49406   0.57476   0.59178   0.50592   \n",
       "4  523587  era97  validation   0.59719   0.45569   0.55065   0.41892   \n",
       "\n",
       "   feature5  feature6  feature7   ...    feature13  feature14  feature15  \\\n",
       "0   0.43622   0.49010   0.59626   ...      0.46999    0.65848    0.61414   \n",
       "1   0.39930   0.41525   0.54916   ...      0.39465    0.66286    0.58364   \n",
       "2   0.42531   0.53203   0.61312   ...      0.48369    0.63943    0.56807   \n",
       "3   0.44062   0.54272   0.55000   ...      0.43125    0.64981    0.64190   \n",
       "4   0.45174   0.47165   0.56128   ...      0.48639    0.57764    0.45624   \n",
       "\n",
       "   feature16  feature17  feature18  feature19  feature20  feature21  target  \n",
       "0    0.46340    0.51415    0.54882    0.54992    0.39919    0.33837     1.0  \n",
       "1    0.38549    0.59305    0.61357    0.52784    0.46704    0.37416     1.0  \n",
       "2    0.48388    0.50785    0.55630    0.55099    0.43983    0.43469     0.0  \n",
       "3    0.37122    0.56728    0.57653    0.61470    0.42992    0.36342     1.0  \n",
       "4    0.47852    0.51380    0.56741    0.52313    0.53296    0.55182     1.0  \n",
       "\n",
       "[5 rows x 25 columns]"
      ]
     },
     "execution_count": 5,
     "metadata": {},
     "output_type": "execute_result"
    }
   ],
   "source": [
    "# Load the tournement data\n",
    "test_path = '/Users/taylordye/Desktop/numerai_datasets/numerai_tournament_data.csv'\n",
    "tournament_df = pd.read_csv(test_path)\n",
    "tournament_df.head()"
   ]
  },
  {
   "cell_type": "markdown",
   "metadata": {},
   "source": [
    "Explore the data"
   ]
  },
  {
   "cell_type": "code",
   "execution_count": 6,
   "metadata": {
    "collapsed": false
   },
   "outputs": [
    {
     "data": {
      "text/plain": [
       "108405"
      ]
     },
     "execution_count": 6,
     "metadata": {},
     "output_type": "execute_result"
    }
   ],
   "source": [
    "len(train_df)"
   ]
  },
  {
   "cell_type": "code",
   "execution_count": 8,
   "metadata": {
    "collapsed": false
   },
   "outputs": [
    {
     "data": {
      "image/png": "[encoded data removed]",
      "text/plain": [
       "<matplotlib.figure.Figure at 0x10ad55588>"
      ]
     },
     "metadata": {},
     "output_type": "display_data"
    }
   ],
   "source": [
    "train_df.target.value_counts().plot(kind='barh');"
   ]
  },
  {
   "cell_type": "code",
   "execution_count": 11,
   "metadata": {
    "collapsed": true
   },
   "outputs": [],
   "source": [
    "# Standardize the data via pipeline\n",
    "from sklearn.preprocessing import StandardScaler\n",
    "from sklearn.pipeline import Pipeline"
   ]
  },
  {
   "cell_type": "code",
   "execution_count": 15,
   "metadata": {
    "collapsed": true
   },
   "outputs": [],
   "source": [
    "X_train = train_df.loc[:, 'feature1':'feature21']\n",
    "X_test = tournament_df.loc[:, 'feature1':'feature21']\n",
    "y_train = train_df.loc[:, 'target']"
   ]
  },
  {
   "cell_type": "markdown",
   "metadata": {},
   "source": [
    "#### Modelling"
   ]
  },
  {
   "cell_type": "markdown",
   "metadata": {},
   "source": [
    "Get a base model"
   ]
  },
  {
   "cell_type": "code",
   "execution_count": 14,
   "metadata": {
    "collapsed": true
   },
   "outputs": [],
   "source": [
    "# Cross-validation\n",
    "from sklearn.model_selection import cross_val_score"
   ]
  },
  {
   "cell_type": "code",
   "execution_count": null,
   "metadata": {
    "collapsed": true
   },
   "outputs": [],
   "source": [
    "# Simple logistic regression\n",
    "from sklearn.linear_model import LogisticRegression\n",
    "\n",
    "# Create a pipeline\n",
    "pipe_logit = Pipeline([('scaler', StandardScaler()), ('logit', LogisticRegression(C=10, n_jobs=2))])\n",
    "\n",
    "pipe_logit_cv = cross_val_score(estimator=pipe_logit, X=X_train, y=y_train, n_jobs=2, scoring='neg_log_loss').mean()"
   ]
  },
  {
   "cell_type": "code",
   "execution_count": 18,
   "metadata": {
    "collapsed": false
   },
   "outputs": [
    {
     "name": "stdout",
     "output_type": "stream",
     "text": [
      "Avg log-loss: 0.69262\n"
     ]
    }
   ],
   "source": [
    "# Print results\n",
    "print('Avg log-loss: {:.5f}'.format(-1 * pipe_logit_cv))"
   ]
  },
  {
   "cell_type": "code",
   "execution_count": 22,
   "metadata": {
    "collapsed": false
   },
   "outputs": [],
   "source": [
    "# Fit our model and predict\n",
    "pipe_logit_proba = pipe_logit.fit(X_train, y_train).predict_proba(X_test)"
   ]
  },
  {
   "cell_type": "code",
   "execution_count": 24,
   "metadata": {
    "collapsed": true
   },
   "outputs": [],
   "source": [
    "# Save our model\n",
    "save_predictions(pipe_logit_proba, tournament_df, tournament_nbr=61)"
   ]
  },
  {
   "cell_type": "markdown",
   "metadata": {},
   "source": [
    "AdaBoost w/ Logistic Regressions"
   ]
  },
  {
   "cell_type": "code",
   "execution_count": 30,
   "metadata": {
    "collapsed": true
   },
   "outputs": [],
   "source": [
    "# Scale our data\n",
    "X_train_scl = sclr.fit_transform(X_train)\n",
    "X_test_scl = sclr.transform(X_test)"
   ]
  },
  {
   "cell_type": "code",
   "execution_count": 55,
   "metadata": {
    "collapsed": false,
    "scrolled": true
   },
   "outputs": [],
   "source": [
    "# Load\n",
    "from sklearn.ensemble import AdaBoostClassifier\n",
    "\n",
    "# Create the model\n",
    "ada_logit = AdaBoostClassifier(base_estimator=LogisticRegression(C=0.001), n_estimators=400).fit(X_train, y_train)\n",
    "\n",
    "# Make predictions and save\n",
    "save_predictions(ada_logit.predict_proba(X_test_scl), tournament_df, tournament_nbr=61)"
   ]
  },
  {
   "cell_type": "markdown",
   "metadata": {},
   "source": [
    "Gradient Boosting"
   ]
  },
  {
   "cell_type": "code",
   "execution_count": 44,
   "metadata": {
    "collapsed": false,
    "scrolled": false
   },
   "outputs": [
    {
     "data": {
      "text/plain": [
       "GradientBoostingClassifier(criterion='friedman_mse', init=None,\n",
       "              learning_rate=0.1, loss='deviance', max_depth=3,\n",
       "              max_features=None, max_leaf_nodes=None,\n",
       "              min_impurity_split=1e-07, min_samples_leaf=1,\n",
       "              min_samples_split=2, min_weight_fraction_leaf=0.0,\n",
       "              n_estimators=150, presort='auto', random_state=None,\n",
       "              subsample=1.0, verbose=0, warm_start=False)"
      ]
     },
     "execution_count": 44,
     "metadata": {},
     "output_type": "execute_result"
    }
   ],
   "source": [
    "from sklearn.ensemble import GradientBoostingClassifier\n",
    "\n",
    "# Create the model\n",
    "gb = GradientBoostingClassifier(n_estimators=150)\n",
    "\n",
    "# Fit the model\n",
    "gb.fit(X_train_scl, y_train)"
   ]
  },
  {
   "cell_type": "code",
   "execution_count": 45,
   "metadata": {
    "collapsed": false
   },
   "outputs": [],
   "source": [
    "# Make and save predictions\n",
    "save_predictions(gb.predict_proba(X_test_scl), tournament_df, tournament_nbr=61)"
   ]
  },
  {
   "cell_type": "markdown",
   "metadata": {},
   "source": [
    "Bagging Methods"
   ]
  },
  {
   "cell_type": "code",
   "execution_count": 61,
   "metadata": {
    "collapsed": true
   },
   "outputs": [],
   "source": [
    "from sklearn.ensemble import BaggingClassifier\n",
    "\n",
    "bag_logit = BaggingClassifier(base_estimator=LogisticRegression(C=0.001, n_jobs=2), n_estimators=300).fit(X_train_scl, y_train)"
   ]
  },
  {
   "cell_type": "code",
   "execution_count": 62,
   "metadata": {
    "collapsed": true
   },
   "outputs": [],
   "source": [
    "# Save and make predictions\n",
    "save_predictions(bag_logit.predict_proba(X_test_scl), tournament_df, tournament_nbr=61)"
   ]
  },
  {
   "cell_type": "markdown",
   "metadata": {},
   "source": [
    "#### Modelling + Feature Selection and Extraction"
   ]
  },
  {
   "cell_type": "markdown",
   "metadata": {},
   "source": [
    "Logistic Regression"
   ]
  },
  {
   "cell_type": "code",
   "execution_count": 66,
   "metadata": {
    "collapsed": true
   },
   "outputs": [],
   "source": [
    "from sklearn.decomposition import PCA\n",
    "\n",
    "pca = PCA(n_components=3)\n",
    "X_train_pca = pca.fit_transform(X_train_scl)\n",
    "X_test_pca = pca.transform(X_test_scl)"
   ]
  },
  {
   "cell_type": "code",
   "execution_count": 69,
   "metadata": {
    "collapsed": true
   },
   "outputs": [],
   "source": [
    "from sklearn.linear_model import LogisticRegression\n",
    "logit = LogisticRegression(C=0.001, n_jobs=2).fit(X_train_pca, y_train)\n",
    "save_predictions(logit.predict_proba(X_test_pca), tournament_df, tournament_nbr=61)"
   ]
  },
  {
   "cell_type": "code",
   "execution_count": null,
   "metadata": {
    "collapsed": true
   },
   "outputs": [],
   "source": []
  },
  {
   "cell_type": "code",
   "execution_count": null,
   "metadata": {
    "collapsed": true
   },
   "outputs": [],
   "source": []
  },
  {
   "cell_type": "code",
   "execution_count": null,
   "metadata": {
    "collapsed": true
   },
   "outputs": [],
   "source": []
  },
  {
   "cell_type": "code",
   "execution_count": null,
   "metadata": {
    "collapsed": true
   },
   "outputs": [],
   "source": []
  },
  {
   "cell_type": "code",
   "execution_count": null,
   "metadata": {
    "collapsed": true
   },
   "outputs": [],
   "source": []
  },
  {
   "cell_type": "code",
   "execution_count": null,
   "metadata": {
    "collapsed": true
   },
   "outputs": [],
   "source": []
  },
  {
   "cell_type": "code",
   "execution_count": null,
   "metadata": {
    "collapsed": true
   },
   "outputs": [],
   "source": []
  },
  {
   "cell_type": "code",
   "execution_count": null,
   "metadata": {
    "collapsed": true
   },
   "outputs": [],
   "source": []
  },
  {
   "cell_type": "code",
   "execution_count": null,
   "metadata": {
    "collapsed": true
   },
   "outputs": [],
   "source": []
  },
  {
   "cell_type": "code",
   "execution_count": null,
   "metadata": {
    "collapsed": true
   },
   "outputs": [],
   "source": []
  },
  {
   "cell_type": "code",
   "execution_count": null,
   "metadata": {
    "collapsed": true
   },
   "outputs": [],
   "source": []
  },
  {
   "cell_type": "code",
   "execution_count": null,
   "metadata": {
    "collapsed": true
   },
   "outputs": [],
   "source": []
  },
  {
   "cell_type": "code",
   "execution_count": null,
   "metadata": {
    "collapsed": true
   },
   "outputs": [],
   "source": []
  },
  {
   "cell_type": "code",
   "execution_count": null,
   "metadata": {
    "collapsed": true
   },
   "outputs": [],
   "source": []
  },
  {
   "cell_type": "code",
   "execution_count": null,
   "metadata": {
    "collapsed": true
   },
   "outputs": [],
   "source": []
  }
 ],
 "metadata": {
  "kernelspec": {
   "display_name": "Python 3",
   "language": "python",
   "name": "python3"
  },
  "language_info": {
   "codemirror_mode": {
    "name": "ipython",
    "version": 3
   },
   "file_extension": ".py",
   "mimetype": "text/x-python",
   "name": "python",
   "nbconvert_exporter": "python",
   "pygments_lexer": "ipython3",
   "version": "3.5.3"
  }
 },
 "nbformat": 4,
 "nbformat_minor": 0
}
