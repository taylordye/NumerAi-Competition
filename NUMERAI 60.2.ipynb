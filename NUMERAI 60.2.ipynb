{
 "cells": [
  {
   "cell_type": "code",
   "execution_count": 2,
   "metadata": {
    "collapsed": true
   },
   "outputs": [],
   "source": [
    "# Load needed modules\n",
    "%matplotlib inline\n",
    "import pandas as pd\n",
    "import numpy as np\n",
    "import matplotlib.pyplot as plt\n",
    "import seaborn as sns"
   ]
  },
  {
   "cell_type": "code",
   "execution_count": 3,
   "metadata": {
    "collapsed": true
   },
   "outputs": [],
   "source": [
    "# Function that returns the Cross-Validation log_loss score\n",
    "def get_log_loss(grid_search_obj):\n",
    "    print(\"Best log_loss score: {:.5f}\".format(-1 * grid_search_obj.best_score_))"
   ]
  },
  {
   "cell_type": "code",
   "execution_count": 4,
   "metadata": {
    "collapsed": true
   },
   "outputs": [],
   "source": [
    "# Function that uses RandomForest to return most important features\n",
    "def rf_feature_selection(df, X, y):\n",
    "    # Create a random forest\n",
    "    from sklearn.ensemble import RandomForestClassifier\n",
    "\n",
    "    # Get the columns\n",
    "    cols = df.columns[3:-1]\n",
    "\n",
    "    # Make the forest\n",
    "    forest = RandomForestClassifier(n_estimators=100, n_jobs=2)\n",
    "\n",
    "    # Fit\n",
    "    forest.fit(X,y)\n",
    "\n",
    "    # Get the importances\n",
    "    importances = forest.feature_importances_\n",
    "\n",
    "    # Get the indices\n",
    "    indices = np.argsort(importances)[::-1]\n",
    "\n",
    "    # Show the importance of each feature\n",
    "    for f in range(X.shape[1]):\n",
    "        print(\"{} - {}\".format(cols[f], importances[indices[f]]))"
   ]
  },
  {
   "cell_type": "code",
   "execution_count": 5,
   "metadata": {
    "collapsed": true
   },
   "outputs": [],
   "source": [
    "# Function that takes the probabilities and ids and saves them to a CSV file\n",
    "def save_predictions(probabilities, tourney_df, tournament_nbr=60):\n",
    "    import pandas as pd\n",
    "    \n",
    "    # Get the probability of 1\n",
    "    prob_of_one = probabilities[:, 1]\n",
    "    \n",
    "    # Get the IDs\n",
    "    ids = tourney_df['id']\n",
    "    \n",
    "    # Join the data into one DataFrame\n",
    "    results = pd.DataFrame(data={'probability': prob_of_one})\n",
    "    results = pd.DataFrame(ids).join(results)\n",
    "    \n",
    "    # Save to CSV\n",
    "    results.to_csv(\"probabilities_{}.csv\".format(tournament_nbr), index=False)"
   ]
  },
  {
   "cell_type": "code",
   "execution_count": 6,
   "metadata": {
    "collapsed": false
   },
   "outputs": [
    {
     "data": {
      "text/html": [
       "<div>\n",
       "<table border=\"1\" class=\"dataframe\">\n",
       "  <thead>\n",
       "    <tr style=\"text-align: right;\">\n",
       "      <th></th>\n",
       "      <th>id</th>\n",
       "      <th>era</th>\n",
       "      <th>data_type</th>\n",
       "      <th>feature1</th>\n",
       "      <th>feature2</th>\n",
       "      <th>feature3</th>\n",
       "      <th>feature4</th>\n",
       "      <th>feature5</th>\n",
       "      <th>feature6</th>\n",
       "      <th>feature7</th>\n",
       "      <th>...</th>\n",
       "      <th>feature13</th>\n",
       "      <th>feature14</th>\n",
       "      <th>feature15</th>\n",
       "      <th>feature16</th>\n",
       "      <th>feature17</th>\n",
       "      <th>feature18</th>\n",
       "      <th>feature19</th>\n",
       "      <th>feature20</th>\n",
       "      <th>feature21</th>\n",
       "      <th>target</th>\n",
       "    </tr>\n",
       "  </thead>\n",
       "  <tbody>\n",
       "    <tr>\n",
       "      <th>0</th>\n",
       "      <td>440255</td>\n",
       "      <td>era1</td>\n",
       "      <td>train</td>\n",
       "      <td>0.26647</td>\n",
       "      <td>0.42487</td>\n",
       "      <td>0.81401</td>\n",
       "      <td>0.22889</td>\n",
       "      <td>0.27456</td>\n",
       "      <td>0.55654</td>\n",
       "      <td>0.55310</td>\n",
       "      <td>...</td>\n",
       "      <td>0.18847</td>\n",
       "      <td>0.77235</td>\n",
       "      <td>0.55002</td>\n",
       "      <td>0.20237</td>\n",
       "      <td>0.79605</td>\n",
       "      <td>0.82971</td>\n",
       "      <td>0.45757</td>\n",
       "      <td>0.69761</td>\n",
       "      <td>0.53739</td>\n",
       "      <td>1</td>\n",
       "    </tr>\n",
       "    <tr>\n",
       "      <th>1</th>\n",
       "      <td>420205</td>\n",
       "      <td>era1</td>\n",
       "      <td>train</td>\n",
       "      <td>0.41334</td>\n",
       "      <td>0.47533</td>\n",
       "      <td>0.71847</td>\n",
       "      <td>0.40792</td>\n",
       "      <td>0.32433</td>\n",
       "      <td>0.55806</td>\n",
       "      <td>0.59592</td>\n",
       "      <td>...</td>\n",
       "      <td>0.32083</td>\n",
       "      <td>0.72435</td>\n",
       "      <td>0.63751</td>\n",
       "      <td>0.29143</td>\n",
       "      <td>0.67860</td>\n",
       "      <td>0.70083</td>\n",
       "      <td>0.59967</td>\n",
       "      <td>0.53103</td>\n",
       "      <td>0.47446</td>\n",
       "      <td>1</td>\n",
       "    </tr>\n",
       "    <tr>\n",
       "      <th>2</th>\n",
       "      <td>409239</td>\n",
       "      <td>era1</td>\n",
       "      <td>train</td>\n",
       "      <td>0.48937</td>\n",
       "      <td>0.56030</td>\n",
       "      <td>0.59150</td>\n",
       "      <td>0.46432</td>\n",
       "      <td>0.42291</td>\n",
       "      <td>0.54177</td>\n",
       "      <td>0.53542</td>\n",
       "      <td>...</td>\n",
       "      <td>0.42195</td>\n",
       "      <td>0.62651</td>\n",
       "      <td>0.51604</td>\n",
       "      <td>0.42938</td>\n",
       "      <td>0.56744</td>\n",
       "      <td>0.60008</td>\n",
       "      <td>0.46966</td>\n",
       "      <td>0.50322</td>\n",
       "      <td>0.42803</td>\n",
       "      <td>1</td>\n",
       "    </tr>\n",
       "    <tr>\n",
       "      <th>3</th>\n",
       "      <td>448661</td>\n",
       "      <td>era1</td>\n",
       "      <td>train</td>\n",
       "      <td>0.61195</td>\n",
       "      <td>0.65958</td>\n",
       "      <td>0.45877</td>\n",
       "      <td>0.56730</td>\n",
       "      <td>0.51889</td>\n",
       "      <td>0.45049</td>\n",
       "      <td>0.56030</td>\n",
       "      <td>...</td>\n",
       "      <td>0.54803</td>\n",
       "      <td>0.59120</td>\n",
       "      <td>0.58160</td>\n",
       "      <td>0.51828</td>\n",
       "      <td>0.43870</td>\n",
       "      <td>0.47011</td>\n",
       "      <td>0.56007</td>\n",
       "      <td>0.36374</td>\n",
       "      <td>0.31552</td>\n",
       "      <td>1</td>\n",
       "    </tr>\n",
       "    <tr>\n",
       "      <th>4</th>\n",
       "      <td>399213</td>\n",
       "      <td>era1</td>\n",
       "      <td>train</td>\n",
       "      <td>0.43758</td>\n",
       "      <td>0.50085</td>\n",
       "      <td>0.60446</td>\n",
       "      <td>0.46663</td>\n",
       "      <td>0.47157</td>\n",
       "      <td>0.59667</td>\n",
       "      <td>0.40161</td>\n",
       "      <td>...</td>\n",
       "      <td>0.40535</td>\n",
       "      <td>0.54366</td>\n",
       "      <td>0.44763</td>\n",
       "      <td>0.37668</td>\n",
       "      <td>0.59931</td>\n",
       "      <td>0.59539</td>\n",
       "      <td>0.43771</td>\n",
       "      <td>0.54767</td>\n",
       "      <td>0.43742</td>\n",
       "      <td>1</td>\n",
       "    </tr>\n",
       "  </tbody>\n",
       "</table>\n",
       "<p>5 rows × 25 columns</p>\n",
       "</div>"
      ],
      "text/plain": [
       "       id   era data_type  feature1  feature2  feature3  feature4  feature5  \\\n",
       "0  440255  era1     train   0.26647   0.42487   0.81401   0.22889   0.27456   \n",
       "1  420205  era1     train   0.41334   0.47533   0.71847   0.40792   0.32433   \n",
       "2  409239  era1     train   0.48937   0.56030   0.59150   0.46432   0.42291   \n",
       "3  448661  era1     train   0.61195   0.65958   0.45877   0.56730   0.51889   \n",
       "4  399213  era1     train   0.43758   0.50085   0.60446   0.46663   0.47157   \n",
       "\n",
       "   feature6  feature7   ...    feature13  feature14  feature15  feature16  \\\n",
       "0   0.55654   0.55310   ...      0.18847    0.77235    0.55002    0.20237   \n",
       "1   0.55806   0.59592   ...      0.32083    0.72435    0.63751    0.29143   \n",
       "2   0.54177   0.53542   ...      0.42195    0.62651    0.51604    0.42938   \n",
       "3   0.45049   0.56030   ...      0.54803    0.59120    0.58160    0.51828   \n",
       "4   0.59667   0.40161   ...      0.40535    0.54366    0.44763    0.37668   \n",
       "\n",
       "   feature17  feature18  feature19  feature20  feature21  target  \n",
       "0    0.79605    0.82971    0.45757    0.69761    0.53739       1  \n",
       "1    0.67860    0.70083    0.59967    0.53103    0.47446       1  \n",
       "2    0.56744    0.60008    0.46966    0.50322    0.42803       1  \n",
       "3    0.43870    0.47011    0.56007    0.36374    0.31552       1  \n",
       "4    0.59931    0.59539    0.43771    0.54767    0.43742       1  \n",
       "\n",
       "[5 rows x 25 columns]"
      ]
     },
     "execution_count": 6,
     "metadata": {},
     "output_type": "execute_result"
    }
   ],
   "source": [
    "# Load the data\n",
    "# File path\n",
    "train_path = '/Users/taylordye/Desktop/numerai_datasets/numerai_training_data.csv'\n",
    "train_df = pd.read_csv(train_path)\n",
    "\n",
    "train_df.head()"
   ]
  },
  {
   "cell_type": "code",
   "execution_count": 7,
   "metadata": {
    "collapsed": false,
    "scrolled": true
   },
   "outputs": [
    {
     "data": {
      "text/html": [
       "<div>\n",
       "<table border=\"1\" class=\"dataframe\">\n",
       "  <thead>\n",
       "    <tr style=\"text-align: right;\">\n",
       "      <th></th>\n",
       "      <th>id</th>\n",
       "      <th>era</th>\n",
       "      <th>data_type</th>\n",
       "      <th>feature1</th>\n",
       "      <th>feature2</th>\n",
       "      <th>feature3</th>\n",
       "      <th>feature4</th>\n",
       "      <th>feature5</th>\n",
       "      <th>feature6</th>\n",
       "      <th>feature7</th>\n",
       "      <th>...</th>\n",
       "      <th>feature13</th>\n",
       "      <th>feature14</th>\n",
       "      <th>feature15</th>\n",
       "      <th>feature16</th>\n",
       "      <th>feature17</th>\n",
       "      <th>feature18</th>\n",
       "      <th>feature19</th>\n",
       "      <th>feature20</th>\n",
       "      <th>feature21</th>\n",
       "      <th>target</th>\n",
       "    </tr>\n",
       "  </thead>\n",
       "  <tbody>\n",
       "    <tr>\n",
       "      <th>0</th>\n",
       "      <td>446551</td>\n",
       "      <td>era97</td>\n",
       "      <td>validation</td>\n",
       "      <td>0.54177</td>\n",
       "      <td>0.64267</td>\n",
       "      <td>0.54365</td>\n",
       "      <td>0.53625</td>\n",
       "      <td>0.43622</td>\n",
       "      <td>0.49010</td>\n",
       "      <td>0.59626</td>\n",
       "      <td>...</td>\n",
       "      <td>0.46999</td>\n",
       "      <td>0.65848</td>\n",
       "      <td>0.61414</td>\n",
       "      <td>0.46340</td>\n",
       "      <td>0.51415</td>\n",
       "      <td>0.54882</td>\n",
       "      <td>0.54992</td>\n",
       "      <td>0.39919</td>\n",
       "      <td>0.33837</td>\n",
       "      <td>1.0</td>\n",
       "    </tr>\n",
       "    <tr>\n",
       "      <th>1</th>\n",
       "      <td>384542</td>\n",
       "      <td>era97</td>\n",
       "      <td>validation</td>\n",
       "      <td>0.46513</td>\n",
       "      <td>0.55879</td>\n",
       "      <td>0.61386</td>\n",
       "      <td>0.48131</td>\n",
       "      <td>0.39930</td>\n",
       "      <td>0.41525</td>\n",
       "      <td>0.54916</td>\n",
       "      <td>...</td>\n",
       "      <td>0.39465</td>\n",
       "      <td>0.66286</td>\n",
       "      <td>0.58364</td>\n",
       "      <td>0.38549</td>\n",
       "      <td>0.59305</td>\n",
       "      <td>0.61357</td>\n",
       "      <td>0.52784</td>\n",
       "      <td>0.46704</td>\n",
       "      <td>0.37416</td>\n",
       "      <td>1.0</td>\n",
       "    </tr>\n",
       "    <tr>\n",
       "      <th>2</th>\n",
       "      <td>352413</td>\n",
       "      <td>era97</td>\n",
       "      <td>validation</td>\n",
       "      <td>0.57906</td>\n",
       "      <td>0.57836</td>\n",
       "      <td>0.55062</td>\n",
       "      <td>0.50582</td>\n",
       "      <td>0.42531</td>\n",
       "      <td>0.53203</td>\n",
       "      <td>0.61312</td>\n",
       "      <td>...</td>\n",
       "      <td>0.48369</td>\n",
       "      <td>0.63943</td>\n",
       "      <td>0.56807</td>\n",
       "      <td>0.48388</td>\n",
       "      <td>0.50785</td>\n",
       "      <td>0.55630</td>\n",
       "      <td>0.55099</td>\n",
       "      <td>0.43983</td>\n",
       "      <td>0.43469</td>\n",
       "      <td>0.0</td>\n",
       "    </tr>\n",
       "    <tr>\n",
       "      <th>3</th>\n",
       "      <td>397163</td>\n",
       "      <td>era97</td>\n",
       "      <td>validation</td>\n",
       "      <td>0.49406</td>\n",
       "      <td>0.57476</td>\n",
       "      <td>0.59178</td>\n",
       "      <td>0.50592</td>\n",
       "      <td>0.44062</td>\n",
       "      <td>0.54272</td>\n",
       "      <td>0.55000</td>\n",
       "      <td>...</td>\n",
       "      <td>0.43125</td>\n",
       "      <td>0.64981</td>\n",
       "      <td>0.64190</td>\n",
       "      <td>0.37122</td>\n",
       "      <td>0.56728</td>\n",
       "      <td>0.57653</td>\n",
       "      <td>0.61470</td>\n",
       "      <td>0.42992</td>\n",
       "      <td>0.36342</td>\n",
       "      <td>1.0</td>\n",
       "    </tr>\n",
       "    <tr>\n",
       "      <th>4</th>\n",
       "      <td>483655</td>\n",
       "      <td>era97</td>\n",
       "      <td>validation</td>\n",
       "      <td>0.59719</td>\n",
       "      <td>0.45569</td>\n",
       "      <td>0.55065</td>\n",
       "      <td>0.41892</td>\n",
       "      <td>0.45174</td>\n",
       "      <td>0.47165</td>\n",
       "      <td>0.56128</td>\n",
       "      <td>...</td>\n",
       "      <td>0.48639</td>\n",
       "      <td>0.57764</td>\n",
       "      <td>0.45624</td>\n",
       "      <td>0.47852</td>\n",
       "      <td>0.51380</td>\n",
       "      <td>0.56741</td>\n",
       "      <td>0.52313</td>\n",
       "      <td>0.53296</td>\n",
       "      <td>0.55182</td>\n",
       "      <td>1.0</td>\n",
       "    </tr>\n",
       "  </tbody>\n",
       "</table>\n",
       "<p>5 rows × 25 columns</p>\n",
       "</div>"
      ],
      "text/plain": [
       "       id    era   data_type  feature1  feature2  feature3  feature4  \\\n",
       "0  446551  era97  validation   0.54177   0.64267   0.54365   0.53625   \n",
       "1  384542  era97  validation   0.46513   0.55879   0.61386   0.48131   \n",
       "2  352413  era97  validation   0.57906   0.57836   0.55062   0.50582   \n",
       "3  397163  era97  validation   0.49406   0.57476   0.59178   0.50592   \n",
       "4  483655  era97  validation   0.59719   0.45569   0.55065   0.41892   \n",
       "\n",
       "   feature5  feature6  feature7   ...    feature13  feature14  feature15  \\\n",
       "0   0.43622   0.49010   0.59626   ...      0.46999    0.65848    0.61414   \n",
       "1   0.39930   0.41525   0.54916   ...      0.39465    0.66286    0.58364   \n",
       "2   0.42531   0.53203   0.61312   ...      0.48369    0.63943    0.56807   \n",
       "3   0.44062   0.54272   0.55000   ...      0.43125    0.64981    0.64190   \n",
       "4   0.45174   0.47165   0.56128   ...      0.48639    0.57764    0.45624   \n",
       "\n",
       "   feature16  feature17  feature18  feature19  feature20  feature21  target  \n",
       "0    0.46340    0.51415    0.54882    0.54992    0.39919    0.33837     1.0  \n",
       "1    0.38549    0.59305    0.61357    0.52784    0.46704    0.37416     1.0  \n",
       "2    0.48388    0.50785    0.55630    0.55099    0.43983    0.43469     0.0  \n",
       "3    0.37122    0.56728    0.57653    0.61470    0.42992    0.36342     1.0  \n",
       "4    0.47852    0.51380    0.56741    0.52313    0.53296    0.55182     1.0  \n",
       "\n",
       "[5 rows x 25 columns]"
      ]
     },
     "execution_count": 7,
     "metadata": {},
     "output_type": "execute_result"
    }
   ],
   "source": [
    "# Load the tournement data\n",
    "test_path = '/Users/taylordye/Desktop/numerai_datasets/numerai_tournament_data.csv'\n",
    "tournament_df = pd.read_csv(test_path)\n",
    "tournament_df.head()"
   ]
  },
  {
   "cell_type": "markdown",
   "metadata": {},
   "source": [
    "#### Preprocess, Scaling the data"
   ]
  },
  {
   "cell_type": "code",
   "execution_count": 8,
   "metadata": {
    "collapsed": true
   },
   "outputs": [],
   "source": [
    "from sklearn.preprocessing import StandardScaler\n",
    "scaler = StandardScaler()\n",
    "\n",
    "# Scale\n",
    "X_train = train_df.loc[:, 'feature1':'feature21']\n",
    "X_train_scaled = pd.DataFrame(scaler.fit_transform(X_train))\n",
    "X_test_scaled = pd.DataFrame(scaler.transform(tournament_df.loc[:, 'feature1':'feature21']))"
   ]
  },
  {
   "cell_type": "code",
   "execution_count": 9,
   "metadata": {
    "collapsed": true
   },
   "outputs": [],
   "source": [
    "# Get the response/targets\n",
    "y_train = train_df.loc[:, 'target']\n",
    "y_test = tournament_df.loc[:, 'target']"
   ]
  },
  {
   "cell_type": "code",
   "execution_count": 10,
   "metadata": {
    "collapsed": false,
    "scrolled": false
   },
   "outputs": [
    {
     "data": {
      "image/png": "[encoded data removed]",
      "text/plain": [
       "<matplotlib.figure.Figure at 0x107f23a20>"
      ]
     },
     "metadata": {},
     "output_type": "display_data"
    }
   ],
   "source": [
    "# Heatmap\n",
    "fig, ax = plt.subplots(figsize=(10,8))\n",
    "sns.heatmap(X_train_scaled.corr(), ax=ax);"
   ]
  },
  {
   "cell_type": "markdown",
   "metadata": {},
   "source": [
    "A lot of our features tend to be correlated. We should apply some dimensionality reductions"
   ]
  },
  {
   "cell_type": "markdown",
   "metadata": {},
   "source": [
    "- So, since we have some collinearity, I think PCA could be good."
   ]
  },
  {
   "cell_type": "markdown",
   "metadata": {},
   "source": [
    "Make a Pipeline to increase workflow and test how different models behave after we've performed feature selection"
   ]
  },
  {
   "cell_type": "code",
   "execution_count": null,
   "metadata": {
    "collapsed": false
   },
   "outputs": [],
   "source": [
    "# Load the functions\n",
    "from sklearn.discriminant_analysis import LinearDiscriminantAnalysis\n",
    "from sklearn.linear_model import LogisticRegression\n",
    "from sklearn.pipeline import Pipeline\n",
    "\n",
    "# Create the Pipeline w/ \n",
    "pipe_lda_logit = Pipeline([('lda', LinearDiscriminantAnalysis(n_components=2)),\n",
    "                           ('logit', LogisticRegression(C=1.0, n_jobs=-1))])"
   ]
  },
  {
   "cell_type": "code",
   "execution_count": null,
   "metadata": {
    "collapsed": false,
    "scrolled": true
   },
   "outputs": [],
   "source": [
    "# Cross-Validation\n",
    "from sklearn.model_selection import cross_val_score\n",
    "from sklearn.model_selection import GridSearchCV\n",
    "\n",
    "# Grid search object\n",
    "logit_params = {'logit__C':[0.1, 1.0], 'logit__penalty':['l1', 'l2']}\n",
    "pipe_logit_gs = GridSearchCV(estimator=pipe_lda_logit, scoring='neg_log_loss', n_jobs=-1, param_grid=logit_params)\n",
    "\n",
    "# Get the average score\n",
    "pipe_logit_score = cross_val_score(estimator=pipe_logit_gs, X=X_train_scaled, y=y_train, scoring='neg_log_loss',\n",
    "                                  n_jobs=-1).mean()"
   ]
  },
  {
   "cell_type": "code",
   "execution_count": null,
   "metadata": {
    "collapsed": false,
    "scrolled": true
   },
   "outputs": [],
   "source": [
    "# Print score\n",
    "print('Average log-loss: {:.5f}'.format(-1* pipe_logit_score))"
   ]
  },
  {
   "cell_type": "code",
   "execution_count": null,
   "metadata": {
    "collapsed": false
   },
   "outputs": [],
   "source": [
    "# Fit the pipeline\n",
    "pipe_lda_logit.fit(X_train_scaled, y_train)"
   ]
  },
  {
   "cell_type": "code",
   "execution_count": null,
   "metadata": {
    "collapsed": false,
    "scrolled": true
   },
   "outputs": [],
   "source": [
    "# Predict \n",
    "pipe_logit_score = pipe_lda_logit.predict_proba(X_test_scaled)"
   ]
  },
  {
   "cell_type": "code",
   "execution_count": null,
   "metadata": {
    "collapsed": true
   },
   "outputs": [],
   "source": [
    "# Save the results\n",
    "save_predictions(pipe_logit_score, tournament_df)"
   ]
  },
  {
   "cell_type": "markdown",
   "metadata": {},
   "source": [
    "Principle Component Analysis + Logistic Regression"
   ]
  },
  {
   "cell_type": "code",
   "execution_count": null,
   "metadata": {
    "collapsed": false,
    "scrolled": true
   },
   "outputs": [],
   "source": [
    "from sklearn.decomposition import PCA\n",
    "from sklearn.linear_model import LogisticRegression\n",
    "from sklearn.model_selection import cross_val_score\n",
    "\n",
    "# Transform our data via PCA\n",
    "pca = PCA(n_components=2)\n",
    "X_train_pca = pca.fit_transform(X_train)\n",
    "\n",
    "# Cross-Validate\n",
    "cv_score_avg = cross_val_score(estimator=LogisticRegression(C=0.01, n_jobs=2), X=X_train_pca, y=y_train, \n",
    "                               n_jobs=-1, scoring='neg_log_loss', cv=3).mean()"
   ]
  },
  {
   "cell_type": "markdown",
   "metadata": {},
   "source": [
    "Simple Logistic Regression w/ C=0.01"
   ]
  },
  {
   "cell_type": "code",
   "execution_count": 11,
   "metadata": {
    "collapsed": true
   },
   "outputs": [],
   "source": [
    "from sklearn.linear_model import LogisticRegression\n",
    "from sklearn.metrics import log_loss\n",
    "\n",
    "logit_preds = LogisticRegression(C=0.01, n_jobs=2).fit(X_train_scaled, y_train).predict_proba(X_test_scaled)\n",
    "\n",
    "# Save the predictions\n",
    "save_predictions(logit_preds, tournament_df)"
   ]
  },
  {
   "cell_type": "markdown",
   "metadata": {
    "collapsed": true
   },
   "source": [
    "Log-loss validation score: 0.69245"
   ]
  },
  {
   "cell_type": "markdown",
   "metadata": {
    "collapsed": true
   },
   "source": [
    "RandomForests"
   ]
  },
  {
   "cell_type": "code",
   "execution_count": 14,
   "metadata": {
    "collapsed": false
   },
   "outputs": [],
   "source": [
    "from sklearn.ensemble import RandomForestClassifier\n",
    "from sklearn.metrics import log_loss\n",
    "\n",
    "# Instantiate, fit, predict, sumbit\n",
    "rfc_preds = RandomForestClassifier(n_estimators=150, n_jobs=2).fit(X_train_scaled, y_train).predict_proba(X_test_scaled)\n",
    "\n",
    "# Save and submit\n",
    "save_predictions(rfc_preds, tournament_df)"
   ]
  },
  {
   "cell_type": "markdown",
   "metadata": {
    "collapsed": true
   },
   "source": [
    "Ensemble modelling"
   ]
  },
  {
   "cell_type": "code",
   "execution_count": 20,
   "metadata": {
    "collapsed": false
   },
   "outputs": [],
   "source": [
    "from sklearn.ensemble import VotingClassifier\n",
    "from sklearn.neighbors import KNeighborsClassifier\n",
    "from sklearn.linear_model import LogisticRegression\n",
    "from sklearn.tree import DecisionTreeClassifier\n",
    "\n",
    "# Create list of tuples to feed the VotingClassifier\n",
    "ensemble = [('knn', KNeighborsClassifier(n_jobs=2)), ('logit', LogisticRegression(C=0.01, n_jobs=2)),\n",
    "            ('dt', DecisionTreeClassifier())]\n",
    "\n",
    "# Create the ensemble\n",
    "ensemble = VotingClassifier(estimators=ensemble, voting='soft', n_jobs=2).fit(X_train_scaled, y_train)\n",
    "\n",
    "# Predict\n",
    "ensemble_preds = ensemble.predict_proba(X_test_scaled)"
   ]
  },
  {
   "cell_type": "code",
   "execution_count": 21,
   "metadata": {
    "collapsed": true
   },
   "outputs": [],
   "source": [
    "# Save the ensemble preds\n",
    "save_predictions(ensemble_preds, tournament_df)"
   ]
  },
  {
   "cell_type": "code",
   "execution_count": 23,
   "metadata": {
    "collapsed": true
   },
   "outputs": [],
   "source": [
    "from sklearn.ensemble import AdaBoostClassifier\n",
    "from sklearn.linear_model import LogisticRegression\n",
    "\n",
    "# Create an ensemble of LogisticRegressions with the Adaptive Boosting technique\n",
    "ada_logit = AdaBoostClassifier(base_estimator=LogisticRegression(C=0.1, n_jobs=2)).fit(X_train_scaled, y_train)\n",
    "\n",
    "# Create and save ada_logit predictions\n",
    "save_predictions(ada_logit.predict_proba(X_test_scaled), tournament_df)"
   ]
  },
  {
   "cell_type": "code",
   "execution_count": 26,
   "metadata": {
    "collapsed": true
   },
   "outputs": [],
   "source": [
    "from sklearn.ensemble import BaggingClassifier\n",
    "from sklearn.linear_model import LogisticRegression\n",
    "\n",
    "# Create an ensemble of LogRed w/ Bootstrap aggregating method\n",
    "bag_logit = BaggingClassifier(base_estimator=LogisticRegression(n_jobs=2)).fit(X_train_scaled, y_train)\n",
    "\n",
    "# Create and save predictions\n",
    "save_predictions(bag_logit.predict_proba(X_test_scaled), tournament_df)"
   ]
  },
  {
   "cell_type": "code",
   "execution_count": 30,
   "metadata": {
    "collapsed": false,
    "scrolled": true
   },
   "outputs": [],
   "source": [
    "from sklearn.ensemble import VotingClassifier\n",
    "from sklearn.linear_model import LogisticRegression\n",
    "from sklearn.ensemble import RandomForestClassifier\n",
    "\n",
    "# Create list of tuples to feed the VotingClassifier\n",
    "ensemble = [('logit', LogisticRegression(C=0.01, n_jobs=2)), ('rfc', RandomForestClassifier(n_jobs=2))]\n",
    "\n",
    "# Create the ensemble\n",
    "ensemble = VotingClassifier(estimators=ensemble, voting='soft', n_jobs=2).fit(X_train_scaled, y_train)\n",
    "\n",
    "# Predict\n",
    "ensemble_preds = ensemble.predict_proba(X_test_scaled)"
   ]
  },
  {
   "cell_type": "markdown",
   "metadata": {},
   "source": [
    "Let's use our function to get the most discriminative features.\n",
    "- Appears features 1-3 seem to be relatively the most predictive features"
   ]
  },
  {
   "cell_type": "code",
   "execution_count": 31,
   "metadata": {
    "collapsed": false
   },
   "outputs": [
    {
     "name": "stdout",
     "output_type": "stream",
     "text": [
      "feature1 - 0.05410199355078408\n",
      "feature2 - 0.0516827099777748\n",
      "feature3 - 0.05034745177256093\n",
      "feature4 - 0.049617498576821045\n",
      "feature5 - 0.04943397458069636\n",
      "feature6 - 0.04924820137850855\n",
      "feature7 - 0.04899154116567237\n",
      "feature8 - 0.04858008649788203\n",
      "feature9 - 0.04793710323792653\n",
      "feature10 - 0.04762055436474153\n",
      "feature11 - 0.04759705358354533\n",
      "feature12 - 0.047473269837563024\n",
      "feature13 - 0.04714380602832054\n",
      "feature14 - 0.04686174352690778\n",
      "feature15 - 0.046240884781652794\n",
      "feature16 - 0.0453647163587661\n",
      "feature17 - 0.04533585522009422\n",
      "feature18 - 0.04465922690638842\n",
      "feature19 - 0.04406341166126276\n",
      "feature20 - 0.04395807034868314\n",
      "feature21 - 0.04374084664344762\n"
     ]
    }
   ],
   "source": [
    "rfc_features = rf_feature_selection(train_df, X_train_scaled, y_train)"
   ]
  },
  {
   "cell_type": "code",
   "execution_count": 44,
   "metadata": {
    "collapsed": false,
    "scrolled": true
   },
   "outputs": [],
   "source": [
    "# Use features 1-4 to build a model\n",
    "from sklearn.ensemble import BaggingClassifier\n",
    "\n",
    "bag_logit = BaggingClassifier(base_estimator=LogisticRegression(n_jobs=2)).fit(X_train_scaled.iloc[:, 0:4], y_train)\n",
    "\n",
    "# Save predictions\n",
    "save_predictions(bag_logit.predict_proba(X_test_scaled.iloc[:, 0:4]), tournament_df)"
   ]
  },
  {
   "cell_type": "code",
   "execution_count": 49,
   "metadata": {
    "collapsed": true
   },
   "outputs": [],
   "source": [
    "# Try similar approach, except with Trees\n",
    "# Use features 1-4 to build a model\n",
    "from sklearn.ensemble import BaggingClassifier\n",
    "from sklearn.tree import DecisionTreeClassifier\n",
    "\n",
    "bag_trees = BaggingClassifier(base_estimator=DecisionTreeClassifier(), n_estimators=500).fit(X_train_scaled.iloc[:, 0:4],\n",
    "                                                                                          y_train)\n",
    "\n",
    "# Save predictions\n",
    "save_predictions(bag_trees.predict_proba(X_test_scaled.iloc[:, 0:4]), tournament_df)"
   ]
  },
  {
   "cell_type": "markdown",
   "metadata": {},
   "source": [
    "Implement PCA to dimensionality reduce our features"
   ]
  },
  {
   "cell_type": "code",
   "execution_count": 62,
   "metadata": {
    "collapsed": false,
    "scrolled": true
   },
   "outputs": [],
   "source": [
    "from sklearn.decomposition import PCA\n",
    "from sklearn.ensemble import AdaBoostClassifier\n",
    "from sklearn.linear_model import LogisticRegression\n",
    "\n",
    "# Get the principle components\n",
    "pca = PCA(n_components=4)\n",
    "X_train_pca = pca.fit_transform(X_train_scaled)\n",
    "\n",
    "# Make a AdaBoost classifier w/ LogisticRegression as the base\n",
    "ada_logit = AdaBoostClassifier(base_estimator=LogisticRegression(n_jobs=2, C=0.001), n_estimators=200).fit(X_train_pca,\n",
    "                                                                                                      y_train)\n",
    "\n",
    "# Save and submit\n",
    "save_predictions(ada_logit.predict_proba(pca.transform(X_test_scaled)), tournament_df)"
   ]
  },
  {
   "cell_type": "markdown",
   "metadata": {},
   "source": [
    "StochasticGradientDescent"
   ]
  },
  {
   "cell_type": "code",
   "execution_count": 69,
   "metadata": {
    "collapsed": true
   },
   "outputs": [],
   "source": [
    "from sklearn.linear_model import SGDClassifier\n",
    "from sklearn.ensemble import AdaBoostClassifier\n",
    "\n",
    "# Make Adaboost classifier w/ SGD Classifier\n",
    "ada_sgd = AdaBoostClassifier(base_estimator=SGDClassifier(loss='log', n_jobs=2), n_estimators=300).fit(X_train_pca,\n",
    "                                                                                                       y_train)\n",
    "\n",
    "# Save\n",
    "save_predictions(ada_sgd.predict_proba(pca.transform(X_test_scaled)), tournament_df)"
   ]
  },
  {
   "cell_type": "code",
   "execution_count": null,
   "metadata": {
    "collapsed": true
   },
   "outputs": [],
   "source": []
  },
  {
   "cell_type": "code",
   "execution_count": null,
   "metadata": {
    "collapsed": true
   },
   "outputs": [],
   "source": []
  },
  {
   "cell_type": "code",
   "execution_count": null,
   "metadata": {
    "collapsed": true
   },
   "outputs": [],
   "source": []
  },
  {
   "cell_type": "code",
   "execution_count": null,
   "metadata": {
    "collapsed": true
   },
   "outputs": [],
   "source": []
  },
  {
   "cell_type": "code",
   "execution_count": null,
   "metadata": {
    "collapsed": true
   },
   "outputs": [],
   "source": []
  },
  {
   "cell_type": "code",
   "execution_count": null,
   "metadata": {
    "collapsed": true
   },
   "outputs": [],
   "source": []
  }
 ],
 "metadata": {
  "kernelspec": {
   "display_name": "Python 3",
   "language": "python",
   "name": "python3"
  },
  "language_info": {
   "codemirror_mode": {
    "name": "ipython",
    "version": 3
   },
   "file_extension": ".py",
   "mimetype": "text/x-python",
   "name": "python",
   "nbconvert_exporter": "python",
   "pygments_lexer": "ipython3",
   "version": "3.5.3"
  }
 },
 "nbformat": 4,
 "nbformat_minor": 0
}
